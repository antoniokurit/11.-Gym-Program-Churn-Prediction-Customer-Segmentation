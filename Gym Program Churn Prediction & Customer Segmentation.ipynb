{
 "cells": [
  {
   "cell_type": "markdown",
   "metadata": {},
   "source": [
    "# Gym Program Churn Prediction\n",
    "\n",
    "Model Fitness is a gym chain and we are tasked with predicting their churn rate for the next month. Our client wishes to implement a customer interaction strategy based on analytical data.\n",
    "\n",
    "In this project, we will predict predict the probability of churn (for the upcoming month) for each customer. We'll also draw up typical user portraits, identify target groups, select the most outstanding groups and describe their main features.\n",
    "\n",
    "Furthermore, we will analyze the factors that impact churn most, draw conclusions and develop recommendations on how to improve customer service to cut churn."
   ]
  },
  {
   "cell_type": "markdown",
   "metadata": {},
   "source": [
    "# Table of Contents\n",
    "[1 Open the data file and have a look at the general information](#1heading)  \n",
    "&emsp;[1.1 Conclusion](#1.1heading)  \n",
    "[2 Data preprocessing](#2heading)  \n",
    "&emsp;[2.1 Processing missing values](#2.1heading)  \n",
    "&emsp;[2.2 Data type replacement](#2.2heading)  \n",
    "&emsp;[2.3 Processing duplicates](#2.3heading)  \n",
    "[3 Exploratory Data Analysis](#3heading)  \n",
    "[4 Model to predict User Churn](#4heading)  \n",
    "[5 Model to create User Clusters](#5heading)  \n",
    "[6 Conclusions and Recommendations](#5heading)"
   ]
  },
  {
   "cell_type": "markdown",
   "metadata": {},
   "source": [
    "<a id='1heading'></a>"
   ]
  },
  {
   "cell_type": "markdown",
   "metadata": {},
   "source": [
    "## Open the data files and have a look at the general information"
   ]
  },
  {
   "cell_type": "code",
   "execution_count": 1,
   "metadata": {},
   "outputs": [],
   "source": [
    "# Importing libraries\n",
    "import pandas as pd\n",
    "import numpy as np\n",
    "import matplotlib.pyplot as plt\n",
    "import seaborn as sns\n",
    "import math as mt\n",
    "import datetime as dt\n",
    "from math import factorial\n",
    "from scipy import stats as st\n",
    "from functools import reduce"
   ]
  },
  {
   "cell_type": "code",
   "execution_count": 2,
   "metadata": {},
   "outputs": [],
   "source": [
    "# Read file\n",
    "churn_data = pd.read_csv('/datasets/gym_churn_us.csv')"
   ]
  },
  {
   "cell_type": "code",
   "execution_count": 3,
   "metadata": {},
   "outputs": [
    {
     "data": {
      "text/html": [
       "<div>\n",
       "<style scoped>\n",
       "    .dataframe tbody tr th:only-of-type {\n",
       "        vertical-align: middle;\n",
       "    }\n",
       "\n",
       "    .dataframe tbody tr th {\n",
       "        vertical-align: top;\n",
       "    }\n",
       "\n",
       "    .dataframe thead th {\n",
       "        text-align: right;\n",
       "    }\n",
       "</style>\n",
       "<table border=\"1\" class=\"dataframe\">\n",
       "  <thead>\n",
       "    <tr style=\"text-align: right;\">\n",
       "      <th></th>\n",
       "      <th>gender</th>\n",
       "      <th>Near_Location</th>\n",
       "      <th>Partner</th>\n",
       "      <th>Promo_friends</th>\n",
       "      <th>Phone</th>\n",
       "      <th>Contract_period</th>\n",
       "      <th>Group_visits</th>\n",
       "      <th>Age</th>\n",
       "      <th>Avg_additional_charges_total</th>\n",
       "      <th>Month_to_end_contract</th>\n",
       "      <th>Lifetime</th>\n",
       "      <th>Avg_class_frequency_total</th>\n",
       "      <th>Avg_class_frequency_current_month</th>\n",
       "      <th>Churn</th>\n",
       "    </tr>\n",
       "  </thead>\n",
       "  <tbody>\n",
       "    <tr>\n",
       "      <th>0</th>\n",
       "      <td>1</td>\n",
       "      <td>1</td>\n",
       "      <td>1</td>\n",
       "      <td>1</td>\n",
       "      <td>0</td>\n",
       "      <td>6</td>\n",
       "      <td>1</td>\n",
       "      <td>29</td>\n",
       "      <td>14.227470</td>\n",
       "      <td>5.0</td>\n",
       "      <td>3</td>\n",
       "      <td>0.020398</td>\n",
       "      <td>0.000000</td>\n",
       "      <td>0</td>\n",
       "    </tr>\n",
       "    <tr>\n",
       "      <th>1</th>\n",
       "      <td>0</td>\n",
       "      <td>1</td>\n",
       "      <td>0</td>\n",
       "      <td>0</td>\n",
       "      <td>1</td>\n",
       "      <td>12</td>\n",
       "      <td>1</td>\n",
       "      <td>31</td>\n",
       "      <td>113.202938</td>\n",
       "      <td>12.0</td>\n",
       "      <td>7</td>\n",
       "      <td>1.922936</td>\n",
       "      <td>1.910244</td>\n",
       "      <td>0</td>\n",
       "    </tr>\n",
       "    <tr>\n",
       "      <th>2</th>\n",
       "      <td>0</td>\n",
       "      <td>1</td>\n",
       "      <td>1</td>\n",
       "      <td>0</td>\n",
       "      <td>1</td>\n",
       "      <td>1</td>\n",
       "      <td>0</td>\n",
       "      <td>28</td>\n",
       "      <td>129.448479</td>\n",
       "      <td>1.0</td>\n",
       "      <td>2</td>\n",
       "      <td>1.859098</td>\n",
       "      <td>1.736502</td>\n",
       "      <td>0</td>\n",
       "    </tr>\n",
       "    <tr>\n",
       "      <th>3</th>\n",
       "      <td>0</td>\n",
       "      <td>1</td>\n",
       "      <td>1</td>\n",
       "      <td>1</td>\n",
       "      <td>1</td>\n",
       "      <td>12</td>\n",
       "      <td>1</td>\n",
       "      <td>33</td>\n",
       "      <td>62.669863</td>\n",
       "      <td>12.0</td>\n",
       "      <td>2</td>\n",
       "      <td>3.205633</td>\n",
       "      <td>3.357215</td>\n",
       "      <td>0</td>\n",
       "    </tr>\n",
       "    <tr>\n",
       "      <th>4</th>\n",
       "      <td>1</td>\n",
       "      <td>1</td>\n",
       "      <td>1</td>\n",
       "      <td>1</td>\n",
       "      <td>1</td>\n",
       "      <td>1</td>\n",
       "      <td>0</td>\n",
       "      <td>26</td>\n",
       "      <td>198.362265</td>\n",
       "      <td>1.0</td>\n",
       "      <td>3</td>\n",
       "      <td>1.113884</td>\n",
       "      <td>1.120078</td>\n",
       "      <td>0</td>\n",
       "    </tr>\n",
       "  </tbody>\n",
       "</table>\n",
       "</div>"
      ],
      "text/plain": [
       "   gender  Near_Location  Partner  Promo_friends  Phone  Contract_period  \\\n",
       "0       1              1        1              1      0                6   \n",
       "1       0              1        0              0      1               12   \n",
       "2       0              1        1              0      1                1   \n",
       "3       0              1        1              1      1               12   \n",
       "4       1              1        1              1      1                1   \n",
       "\n",
       "   Group_visits  Age  Avg_additional_charges_total  Month_to_end_contract  \\\n",
       "0             1   29                     14.227470                    5.0   \n",
       "1             1   31                    113.202938                   12.0   \n",
       "2             0   28                    129.448479                    1.0   \n",
       "3             1   33                     62.669863                   12.0   \n",
       "4             0   26                    198.362265                    1.0   \n",
       "\n",
       "   Lifetime  Avg_class_frequency_total  Avg_class_frequency_current_month  \\\n",
       "0         3                   0.020398                           0.000000   \n",
       "1         7                   1.922936                           1.910244   \n",
       "2         2                   1.859098                           1.736502   \n",
       "3         2                   3.205633                           3.357215   \n",
       "4         3                   1.113884                           1.120078   \n",
       "\n",
       "   Churn  \n",
       "0      0  \n",
       "1      0  \n",
       "2      0  \n",
       "3      0  \n",
       "4      0  "
      ]
     },
     "metadata": {},
     "output_type": "display_data"
    },
    {
     "name": "stdout",
     "output_type": "stream",
     "text": [
      "<class 'pandas.core.frame.DataFrame'>\n",
      "RangeIndex: 4000 entries, 0 to 3999\n",
      "Data columns (total 14 columns):\n",
      " #   Column                             Non-Null Count  Dtype  \n",
      "---  ------                             --------------  -----  \n",
      " 0   gender                             4000 non-null   int64  \n",
      " 1   Near_Location                      4000 non-null   int64  \n",
      " 2   Partner                            4000 non-null   int64  \n",
      " 3   Promo_friends                      4000 non-null   int64  \n",
      " 4   Phone                              4000 non-null   int64  \n",
      " 5   Contract_period                    4000 non-null   int64  \n",
      " 6   Group_visits                       4000 non-null   int64  \n",
      " 7   Age                                4000 non-null   int64  \n",
      " 8   Avg_additional_charges_total       4000 non-null   float64\n",
      " 9   Month_to_end_contract              4000 non-null   float64\n",
      " 10  Lifetime                           4000 non-null   int64  \n",
      " 11  Avg_class_frequency_total          4000 non-null   float64\n",
      " 12  Avg_class_frequency_current_month  4000 non-null   float64\n",
      " 13  Churn                              4000 non-null   int64  \n",
      "dtypes: float64(4), int64(10)\n",
      "memory usage: 437.6 KB\n"
     ]
    },
    {
     "data": {
      "text/html": [
       "<div>\n",
       "<style scoped>\n",
       "    .dataframe tbody tr th:only-of-type {\n",
       "        vertical-align: middle;\n",
       "    }\n",
       "\n",
       "    .dataframe tbody tr th {\n",
       "        vertical-align: top;\n",
       "    }\n",
       "\n",
       "    .dataframe thead th {\n",
       "        text-align: right;\n",
       "    }\n",
       "</style>\n",
       "<table border=\"1\" class=\"dataframe\">\n",
       "  <thead>\n",
       "    <tr style=\"text-align: right;\">\n",
       "      <th></th>\n",
       "      <th>gender</th>\n",
       "      <th>Near_Location</th>\n",
       "      <th>Partner</th>\n",
       "      <th>Promo_friends</th>\n",
       "      <th>Phone</th>\n",
       "      <th>Contract_period</th>\n",
       "      <th>Group_visits</th>\n",
       "      <th>Age</th>\n",
       "      <th>Avg_additional_charges_total</th>\n",
       "      <th>Month_to_end_contract</th>\n",
       "      <th>Lifetime</th>\n",
       "      <th>Avg_class_frequency_total</th>\n",
       "      <th>Avg_class_frequency_current_month</th>\n",
       "      <th>Churn</th>\n",
       "    </tr>\n",
       "  </thead>\n",
       "  <tbody>\n",
       "    <tr>\n",
       "      <th>count</th>\n",
       "      <td>4000.000000</td>\n",
       "      <td>4000.000000</td>\n",
       "      <td>4000.000000</td>\n",
       "      <td>4000.000000</td>\n",
       "      <td>4000.000000</td>\n",
       "      <td>4000.000000</td>\n",
       "      <td>4000.000000</td>\n",
       "      <td>4000.000000</td>\n",
       "      <td>4000.000000</td>\n",
       "      <td>4000.000000</td>\n",
       "      <td>4000.000000</td>\n",
       "      <td>4000.000000</td>\n",
       "      <td>4000.000000</td>\n",
       "      <td>4000.000000</td>\n",
       "    </tr>\n",
       "    <tr>\n",
       "      <th>mean</th>\n",
       "      <td>0.510250</td>\n",
       "      <td>0.845250</td>\n",
       "      <td>0.486750</td>\n",
       "      <td>0.308500</td>\n",
       "      <td>0.903500</td>\n",
       "      <td>4.681250</td>\n",
       "      <td>0.412250</td>\n",
       "      <td>29.184250</td>\n",
       "      <td>146.943728</td>\n",
       "      <td>4.322750</td>\n",
       "      <td>3.724750</td>\n",
       "      <td>1.879020</td>\n",
       "      <td>1.767052</td>\n",
       "      <td>0.265250</td>\n",
       "    </tr>\n",
       "    <tr>\n",
       "      <th>std</th>\n",
       "      <td>0.499957</td>\n",
       "      <td>0.361711</td>\n",
       "      <td>0.499887</td>\n",
       "      <td>0.461932</td>\n",
       "      <td>0.295313</td>\n",
       "      <td>4.549706</td>\n",
       "      <td>0.492301</td>\n",
       "      <td>3.258367</td>\n",
       "      <td>96.355602</td>\n",
       "      <td>4.191297</td>\n",
       "      <td>3.749267</td>\n",
       "      <td>0.972245</td>\n",
       "      <td>1.052906</td>\n",
       "      <td>0.441521</td>\n",
       "    </tr>\n",
       "    <tr>\n",
       "      <th>min</th>\n",
       "      <td>0.000000</td>\n",
       "      <td>0.000000</td>\n",
       "      <td>0.000000</td>\n",
       "      <td>0.000000</td>\n",
       "      <td>0.000000</td>\n",
       "      <td>1.000000</td>\n",
       "      <td>0.000000</td>\n",
       "      <td>18.000000</td>\n",
       "      <td>0.148205</td>\n",
       "      <td>1.000000</td>\n",
       "      <td>0.000000</td>\n",
       "      <td>0.000000</td>\n",
       "      <td>0.000000</td>\n",
       "      <td>0.000000</td>\n",
       "    </tr>\n",
       "    <tr>\n",
       "      <th>25%</th>\n",
       "      <td>0.000000</td>\n",
       "      <td>1.000000</td>\n",
       "      <td>0.000000</td>\n",
       "      <td>0.000000</td>\n",
       "      <td>1.000000</td>\n",
       "      <td>1.000000</td>\n",
       "      <td>0.000000</td>\n",
       "      <td>27.000000</td>\n",
       "      <td>68.868830</td>\n",
       "      <td>1.000000</td>\n",
       "      <td>1.000000</td>\n",
       "      <td>1.180875</td>\n",
       "      <td>0.963003</td>\n",
       "      <td>0.000000</td>\n",
       "    </tr>\n",
       "    <tr>\n",
       "      <th>50%</th>\n",
       "      <td>1.000000</td>\n",
       "      <td>1.000000</td>\n",
       "      <td>0.000000</td>\n",
       "      <td>0.000000</td>\n",
       "      <td>1.000000</td>\n",
       "      <td>1.000000</td>\n",
       "      <td>0.000000</td>\n",
       "      <td>29.000000</td>\n",
       "      <td>136.220159</td>\n",
       "      <td>1.000000</td>\n",
       "      <td>3.000000</td>\n",
       "      <td>1.832768</td>\n",
       "      <td>1.719574</td>\n",
       "      <td>0.000000</td>\n",
       "    </tr>\n",
       "    <tr>\n",
       "      <th>75%</th>\n",
       "      <td>1.000000</td>\n",
       "      <td>1.000000</td>\n",
       "      <td>1.000000</td>\n",
       "      <td>1.000000</td>\n",
       "      <td>1.000000</td>\n",
       "      <td>6.000000</td>\n",
       "      <td>1.000000</td>\n",
       "      <td>31.000000</td>\n",
       "      <td>210.949625</td>\n",
       "      <td>6.000000</td>\n",
       "      <td>5.000000</td>\n",
       "      <td>2.536078</td>\n",
       "      <td>2.510336</td>\n",
       "      <td>1.000000</td>\n",
       "    </tr>\n",
       "    <tr>\n",
       "      <th>max</th>\n",
       "      <td>1.000000</td>\n",
       "      <td>1.000000</td>\n",
       "      <td>1.000000</td>\n",
       "      <td>1.000000</td>\n",
       "      <td>1.000000</td>\n",
       "      <td>12.000000</td>\n",
       "      <td>1.000000</td>\n",
       "      <td>41.000000</td>\n",
       "      <td>552.590740</td>\n",
       "      <td>12.000000</td>\n",
       "      <td>31.000000</td>\n",
       "      <td>6.023668</td>\n",
       "      <td>6.146783</td>\n",
       "      <td>1.000000</td>\n",
       "    </tr>\n",
       "  </tbody>\n",
       "</table>\n",
       "</div>"
      ],
      "text/plain": [
       "            gender  Near_Location      Partner  Promo_friends        Phone  \\\n",
       "count  4000.000000    4000.000000  4000.000000    4000.000000  4000.000000   \n",
       "mean      0.510250       0.845250     0.486750       0.308500     0.903500   \n",
       "std       0.499957       0.361711     0.499887       0.461932     0.295313   \n",
       "min       0.000000       0.000000     0.000000       0.000000     0.000000   \n",
       "25%       0.000000       1.000000     0.000000       0.000000     1.000000   \n",
       "50%       1.000000       1.000000     0.000000       0.000000     1.000000   \n",
       "75%       1.000000       1.000000     1.000000       1.000000     1.000000   \n",
       "max       1.000000       1.000000     1.000000       1.000000     1.000000   \n",
       "\n",
       "       Contract_period  Group_visits          Age  \\\n",
       "count      4000.000000   4000.000000  4000.000000   \n",
       "mean          4.681250      0.412250    29.184250   \n",
       "std           4.549706      0.492301     3.258367   \n",
       "min           1.000000      0.000000    18.000000   \n",
       "25%           1.000000      0.000000    27.000000   \n",
       "50%           1.000000      0.000000    29.000000   \n",
       "75%           6.000000      1.000000    31.000000   \n",
       "max          12.000000      1.000000    41.000000   \n",
       "\n",
       "       Avg_additional_charges_total  Month_to_end_contract     Lifetime  \\\n",
       "count                   4000.000000            4000.000000  4000.000000   \n",
       "mean                     146.943728               4.322750     3.724750   \n",
       "std                       96.355602               4.191297     3.749267   \n",
       "min                        0.148205               1.000000     0.000000   \n",
       "25%                       68.868830               1.000000     1.000000   \n",
       "50%                      136.220159               1.000000     3.000000   \n",
       "75%                      210.949625               6.000000     5.000000   \n",
       "max                      552.590740              12.000000    31.000000   \n",
       "\n",
       "       Avg_class_frequency_total  Avg_class_frequency_current_month  \\\n",
       "count                4000.000000                        4000.000000   \n",
       "mean                    1.879020                           1.767052   \n",
       "std                     0.972245                           1.052906   \n",
       "min                     0.000000                           0.000000   \n",
       "25%                     1.180875                           0.963003   \n",
       "50%                     1.832768                           1.719574   \n",
       "75%                     2.536078                           2.510336   \n",
       "max                     6.023668                           6.146783   \n",
       "\n",
       "             Churn  \n",
       "count  4000.000000  \n",
       "mean      0.265250  \n",
       "std       0.441521  \n",
       "min       0.000000  \n",
       "25%       0.000000  \n",
       "50%       0.000000  \n",
       "75%       1.000000  \n",
       "max       1.000000  "
      ]
     },
     "execution_count": 3,
     "metadata": {},
     "output_type": "execute_result"
    }
   ],
   "source": [
    "# Check churn_data dataframe and the data info\n",
    "display(churn_data.head())\n",
    "churn_data.info()\n",
    "churn_data.describe()"
   ]
  },
  {
   "cell_type": "markdown",
   "metadata": {},
   "source": [
    "<a id='1.1heading'></a>"
   ]
  },
  {
   "cell_type": "markdown",
   "metadata": {},
   "source": [
    "### Conclusion"
   ]
  },
  {
   "cell_type": "markdown",
   "metadata": {},
   "source": [
    "<div class=\"alert alert-info\">\n",
    "    \n",
    "churn_data dataframe contains 13 columns:\n",
    "- **gender**: user's gender\n",
    "- **Near_Location**: whether the user lives or works in the neighborhood where the gym is located\n",
    "- **Partner**: whether the user is an employee of a partner company\n",
    "- **Promo_friends**: whether the user originally signed up through a \"bring a friend\" offer\n",
    "- **Phone**: whether the user provided their phone number\n",
    "- **Contract_period**: 1 month, 3 months, 6 months, or 1 year\n",
    "- **Group_visits**: whether the user takes part in group sessions\n",
    "- **Age**: user's age\n",
    "- **Avg_additional_charges_total**: he total amount of money spent on other gym services: cafe, athletic goods, cosmetics, massages, etc.\n",
    "- **Month_to_end_contract**: the months remaining until the contract expires\n",
    "- **Avg_class_frequency_total**: average frequency of visits per week over the customer's lifetime\n",
    "- **Avg_class_frequency_current_month**: average frequency of visits per week over the preceding month\n",
    "- **Churn**: the fact of churn for the month in question\n",
    "\n",
    "There are a total of 4000 rows with 0 nulls. Data types need updating.\n",
    "</div>"
   ]
  },
  {
   "cell_type": "markdown",
   "metadata": {},
   "source": [
    "<a id='2heading'></a>"
   ]
  },
  {
   "cell_type": "markdown",
   "metadata": {},
   "source": [
    "## Data preprocessing"
   ]
  },
  {
   "cell_type": "markdown",
   "metadata": {},
   "source": [
    "<a id='2.1heading'></a>"
   ]
  },
  {
   "cell_type": "markdown",
   "metadata": {},
   "source": [
    "### Processing missing values"
   ]
  },
  {
   "cell_type": "code",
   "execution_count": 4,
   "metadata": {},
   "outputs": [
    {
     "data": {
      "text/plain": [
       "gender                               0.0\n",
       "Near_Location                        0.0\n",
       "Partner                              0.0\n",
       "Promo_friends                        0.0\n",
       "Phone                                0.0\n",
       "Contract_period                      0.0\n",
       "Group_visits                         0.0\n",
       "Age                                  0.0\n",
       "Avg_additional_charges_total         0.0\n",
       "Month_to_end_contract                0.0\n",
       "Lifetime                             0.0\n",
       "Avg_class_frequency_total            0.0\n",
       "Avg_class_frequency_current_month    0.0\n",
       "Churn                                0.0\n",
       "dtype: float64"
      ]
     },
     "execution_count": 4,
     "metadata": {},
     "output_type": "execute_result"
    }
   ],
   "source": [
    "# Percentage of nulls\n",
    "churn_data.isnull().sum()*100/len(churn_data)"
   ]
  },
  {
   "cell_type": "markdown",
   "metadata": {},
   "source": [
    "<a id='2.2heading'></a>"
   ]
  },
  {
   "cell_type": "markdown",
   "metadata": {},
   "source": [
    "### Data type replacement"
   ]
  },
  {
   "cell_type": "code",
   "execution_count": 5,
   "metadata": {},
   "outputs": [
    {
     "data": {
      "text/plain": [
       "gender                                 int64\n",
       "Near_Location                          int64\n",
       "Partner                                int64\n",
       "Promo_friends                          int64\n",
       "Phone                                  int64\n",
       "Contract_period                        int64\n",
       "Group_visits                           int64\n",
       "Age                                    int64\n",
       "Avg_additional_charges_total         float64\n",
       "Month_to_end_contract                float64\n",
       "Lifetime                               int64\n",
       "Avg_class_frequency_total            float64\n",
       "Avg_class_frequency_current_month    float64\n",
       "Churn                                  int64\n",
       "dtype: object"
      ]
     },
     "execution_count": 5,
     "metadata": {},
     "output_type": "execute_result"
    }
   ],
   "source": [
    "# Check visits dtypes\n",
    "churn_data.dtypes"
   ]
  },
  {
   "cell_type": "code",
   "execution_count": 6,
   "metadata": {},
   "outputs": [],
   "source": [
    "# Change dtypes\n",
    "churn_data['gender'] = churn_data['gender'].astype('bool')\n",
    "churn_data['Near_Location'] = churn_data['Near_Location'].astype('bool')\n",
    "churn_data['Partner'] = churn_data['Partner'].astype('bool')\n",
    "churn_data['Promo_friends'] = churn_data['Promo_friends'].astype('bool')\n",
    "churn_data['Phone'] = churn_data['Phone'].astype('bool')\n",
    "# churn_data['Contract_period'] = churn_data['Contract_period'].astype('category')\n",
    "churn_data['Group_visits'] = churn_data['Group_visits'].astype('bool')\n",
    "churn_data['Month_to_end_contract'] = churn_data['Month_to_end_contract'].astype('int')\n",
    "churn_data['Churn'] = churn_data['Churn'].astype('bool')\n"
   ]
  },
  {
   "cell_type": "code",
   "execution_count": 7,
   "metadata": {},
   "outputs": [
    {
     "data": {
      "text/plain": [
       "gender                                  bool\n",
       "Near_Location                           bool\n",
       "Partner                                 bool\n",
       "Promo_friends                           bool\n",
       "Phone                                   bool\n",
       "Contract_period                        int64\n",
       "Group_visits                            bool\n",
       "Age                                    int64\n",
       "Avg_additional_charges_total         float64\n",
       "Month_to_end_contract                  int64\n",
       "Lifetime                               int64\n",
       "Avg_class_frequency_total            float64\n",
       "Avg_class_frequency_current_month    float64\n",
       "Churn                                   bool\n",
       "dtype: object"
      ]
     },
     "execution_count": 7,
     "metadata": {},
     "output_type": "execute_result"
    }
   ],
   "source": [
    "# Confirm new dtypes\n",
    "churn_data.dtypes"
   ]
  },
  {
   "cell_type": "markdown",
   "metadata": {},
   "source": [
    "<a id='2.3heading'></a>"
   ]
  },
  {
   "cell_type": "markdown",
   "metadata": {},
   "source": [
    "### Processing duplicates"
   ]
  },
  {
   "cell_type": "code",
   "execution_count": 8,
   "metadata": {},
   "outputs": [
    {
     "data": {
      "text/plain": [
       "0"
      ]
     },
     "execution_count": 8,
     "metadata": {},
     "output_type": "execute_result"
    }
   ],
   "source": [
    "# Duplicates for churn_data\n",
    "churn_data.duplicated().sum()"
   ]
  },
  {
   "cell_type": "markdown",
   "metadata": {},
   "source": [
    "<div class=\"alert alert-info\">\n",
    "We've successfully accounted for any missing values, wrong data types and duplicate values.\n",
    "</div>"
   ]
  },
  {
   "cell_type": "markdown",
   "metadata": {},
   "source": [
    "<a id='3heading'></a>"
   ]
  },
  {
   "cell_type": "markdown",
   "metadata": {},
   "source": [
    "## Exploratory Data Analysis"
   ]
  },
  {
   "cell_type": "code",
   "execution_count": 9,
   "metadata": {},
   "outputs": [
    {
     "data": {
      "text/html": [
       "<div>\n",
       "<style scoped>\n",
       "    .dataframe tbody tr th:only-of-type {\n",
       "        vertical-align: middle;\n",
       "    }\n",
       "\n",
       "    .dataframe tbody tr th {\n",
       "        vertical-align: top;\n",
       "    }\n",
       "\n",
       "    .dataframe thead th {\n",
       "        text-align: right;\n",
       "    }\n",
       "</style>\n",
       "<table border=\"1\" class=\"dataframe\">\n",
       "  <thead>\n",
       "    <tr style=\"text-align: right;\">\n",
       "      <th></th>\n",
       "      <th>Contract_period</th>\n",
       "      <th>Age</th>\n",
       "      <th>Avg_additional_charges_total</th>\n",
       "      <th>Month_to_end_contract</th>\n",
       "      <th>Lifetime</th>\n",
       "      <th>Avg_class_frequency_total</th>\n",
       "      <th>Avg_class_frequency_current_month</th>\n",
       "    </tr>\n",
       "  </thead>\n",
       "  <tbody>\n",
       "    <tr>\n",
       "      <th>count</th>\n",
       "      <td>4000.000000</td>\n",
       "      <td>4000.000000</td>\n",
       "      <td>4000.000000</td>\n",
       "      <td>4000.000000</td>\n",
       "      <td>4000.000000</td>\n",
       "      <td>4000.000000</td>\n",
       "      <td>4000.000000</td>\n",
       "    </tr>\n",
       "    <tr>\n",
       "      <th>mean</th>\n",
       "      <td>4.681250</td>\n",
       "      <td>29.184250</td>\n",
       "      <td>146.943728</td>\n",
       "      <td>4.322750</td>\n",
       "      <td>3.724750</td>\n",
       "      <td>1.879020</td>\n",
       "      <td>1.767052</td>\n",
       "    </tr>\n",
       "    <tr>\n",
       "      <th>std</th>\n",
       "      <td>4.549706</td>\n",
       "      <td>3.258367</td>\n",
       "      <td>96.355602</td>\n",
       "      <td>4.191297</td>\n",
       "      <td>3.749267</td>\n",
       "      <td>0.972245</td>\n",
       "      <td>1.052906</td>\n",
       "    </tr>\n",
       "    <tr>\n",
       "      <th>min</th>\n",
       "      <td>1.000000</td>\n",
       "      <td>18.000000</td>\n",
       "      <td>0.148205</td>\n",
       "      <td>1.000000</td>\n",
       "      <td>0.000000</td>\n",
       "      <td>0.000000</td>\n",
       "      <td>0.000000</td>\n",
       "    </tr>\n",
       "    <tr>\n",
       "      <th>25%</th>\n",
       "      <td>1.000000</td>\n",
       "      <td>27.000000</td>\n",
       "      <td>68.868830</td>\n",
       "      <td>1.000000</td>\n",
       "      <td>1.000000</td>\n",
       "      <td>1.180875</td>\n",
       "      <td>0.963003</td>\n",
       "    </tr>\n",
       "    <tr>\n",
       "      <th>50%</th>\n",
       "      <td>1.000000</td>\n",
       "      <td>29.000000</td>\n",
       "      <td>136.220159</td>\n",
       "      <td>1.000000</td>\n",
       "      <td>3.000000</td>\n",
       "      <td>1.832768</td>\n",
       "      <td>1.719574</td>\n",
       "    </tr>\n",
       "    <tr>\n",
       "      <th>75%</th>\n",
       "      <td>6.000000</td>\n",
       "      <td>31.000000</td>\n",
       "      <td>210.949625</td>\n",
       "      <td>6.000000</td>\n",
       "      <td>5.000000</td>\n",
       "      <td>2.536078</td>\n",
       "      <td>2.510336</td>\n",
       "    </tr>\n",
       "    <tr>\n",
       "      <th>max</th>\n",
       "      <td>12.000000</td>\n",
       "      <td>41.000000</td>\n",
       "      <td>552.590740</td>\n",
       "      <td>12.000000</td>\n",
       "      <td>31.000000</td>\n",
       "      <td>6.023668</td>\n",
       "      <td>6.146783</td>\n",
       "    </tr>\n",
       "  </tbody>\n",
       "</table>\n",
       "</div>"
      ],
      "text/plain": [
       "       Contract_period          Age  Avg_additional_charges_total  \\\n",
       "count      4000.000000  4000.000000                   4000.000000   \n",
       "mean          4.681250    29.184250                    146.943728   \n",
       "std           4.549706     3.258367                     96.355602   \n",
       "min           1.000000    18.000000                      0.148205   \n",
       "25%           1.000000    27.000000                     68.868830   \n",
       "50%           1.000000    29.000000                    136.220159   \n",
       "75%           6.000000    31.000000                    210.949625   \n",
       "max          12.000000    41.000000                    552.590740   \n",
       "\n",
       "       Month_to_end_contract     Lifetime  Avg_class_frequency_total  \\\n",
       "count            4000.000000  4000.000000                4000.000000   \n",
       "mean                4.322750     3.724750                   1.879020   \n",
       "std                 4.191297     3.749267                   0.972245   \n",
       "min                 1.000000     0.000000                   0.000000   \n",
       "25%                 1.000000     1.000000                   1.180875   \n",
       "50%                 1.000000     3.000000                   1.832768   \n",
       "75%                 6.000000     5.000000                   2.536078   \n",
       "max                12.000000    31.000000                   6.023668   \n",
       "\n",
       "       Avg_class_frequency_current_month  \n",
       "count                        4000.000000  \n",
       "mean                            1.767052  \n",
       "std                             1.052906  \n",
       "min                             0.000000  \n",
       "25%                             0.963003  \n",
       "50%                             1.719574  \n",
       "75%                             2.510336  \n",
       "max                             6.146783  "
      ]
     },
     "execution_count": 9,
     "metadata": {},
     "output_type": "execute_result"
    }
   ],
   "source": [
    "# Looking at distributions for all features\n",
    "churn_data.describe()"
   ]
  },
  {
   "cell_type": "markdown",
   "metadata": {},
   "source": [
    "<div class=\"alert alert-info\">\n",
    "    \n",
    "We deduce the following after seeing our features' distributions:\n",
    "- More than half of clients opt for a 1 month contract\n",
    "- Our users' age starts from 18 and ends at 41\n",
    "- Median additional charges amount to $136\n",
    "- 50\\% of our customers have a lifetime of 1-5 months\n",
    "- 50\\% of customer go, on average, less than twice a week to the gym\n",
    "\n",
    "</div>"
   ]
  },
  {
   "cell_type": "code",
   "execution_count": 10,
   "metadata": {},
   "outputs": [
    {
     "data": {
      "text/html": [
       "<div>\n",
       "<style scoped>\n",
       "    .dataframe tbody tr th:only-of-type {\n",
       "        vertical-align: middle;\n",
       "    }\n",
       "\n",
       "    .dataframe tbody tr th {\n",
       "        vertical-align: top;\n",
       "    }\n",
       "\n",
       "    .dataframe thead th {\n",
       "        text-align: right;\n",
       "    }\n",
       "</style>\n",
       "<table border=\"1\" class=\"dataframe\">\n",
       "  <thead>\n",
       "    <tr style=\"text-align: right;\">\n",
       "      <th></th>\n",
       "      <th>gender</th>\n",
       "      <th>Near_Location</th>\n",
       "      <th>Partner</th>\n",
       "      <th>Promo_friends</th>\n",
       "      <th>Phone</th>\n",
       "      <th>Contract_period</th>\n",
       "      <th>Group_visits</th>\n",
       "      <th>Age</th>\n",
       "      <th>Avg_additional_charges_total</th>\n",
       "      <th>Month_to_end_contract</th>\n",
       "      <th>Lifetime</th>\n",
       "      <th>Avg_class_frequency_total</th>\n",
       "      <th>Avg_class_frequency_current_month</th>\n",
       "    </tr>\n",
       "    <tr>\n",
       "      <th>Churn</th>\n",
       "      <th></th>\n",
       "      <th></th>\n",
       "      <th></th>\n",
       "      <th></th>\n",
       "      <th></th>\n",
       "      <th></th>\n",
       "      <th></th>\n",
       "      <th></th>\n",
       "      <th></th>\n",
       "      <th></th>\n",
       "      <th></th>\n",
       "      <th></th>\n",
       "      <th></th>\n",
       "    </tr>\n",
       "  </thead>\n",
       "  <tbody>\n",
       "    <tr>\n",
       "      <th>False</th>\n",
       "      <td>0.510037</td>\n",
       "      <td>0.873086</td>\n",
       "      <td>0.534195</td>\n",
       "      <td>0.353522</td>\n",
       "      <td>0.903709</td>\n",
       "      <td>5.747193</td>\n",
       "      <td>0.464103</td>\n",
       "      <td>29.976523</td>\n",
       "      <td>158.445715</td>\n",
       "      <td>5.283089</td>\n",
       "      <td>4.711807</td>\n",
       "      <td>2.024876</td>\n",
       "      <td>2.027882</td>\n",
       "    </tr>\n",
       "    <tr>\n",
       "      <th>True</th>\n",
       "      <td>0.510839</td>\n",
       "      <td>0.768143</td>\n",
       "      <td>0.355325</td>\n",
       "      <td>0.183789</td>\n",
       "      <td>0.902922</td>\n",
       "      <td>1.728558</td>\n",
       "      <td>0.268615</td>\n",
       "      <td>26.989632</td>\n",
       "      <td>115.082899</td>\n",
       "      <td>1.662582</td>\n",
       "      <td>0.990575</td>\n",
       "      <td>1.474995</td>\n",
       "      <td>1.044546</td>\n",
       "    </tr>\n",
       "  </tbody>\n",
       "</table>\n",
       "</div>"
      ],
      "text/plain": [
       "         gender  Near_Location   Partner  Promo_friends     Phone  \\\n",
       "Churn                                                               \n",
       "False  0.510037       0.873086  0.534195       0.353522  0.903709   \n",
       "True   0.510839       0.768143  0.355325       0.183789  0.902922   \n",
       "\n",
       "       Contract_period  Group_visits        Age  Avg_additional_charges_total  \\\n",
       "Churn                                                                           \n",
       "False         5.747193      0.464103  29.976523                    158.445715   \n",
       "True          1.728558      0.268615  26.989632                    115.082899   \n",
       "\n",
       "       Month_to_end_contract  Lifetime  Avg_class_frequency_total  \\\n",
       "Churn                                                               \n",
       "False               5.283089  4.711807                   2.024876   \n",
       "True                1.662582  0.990575                   1.474995   \n",
       "\n",
       "       Avg_class_frequency_current_month  \n",
       "Churn                                     \n",
       "False                           2.027882  \n",
       "True                            1.044546  "
      ]
     },
     "execution_count": 10,
     "metadata": {},
     "output_type": "execute_result"
    }
   ],
   "source": [
    "# Grouping by churn, and obtaining mean of all features\n",
    "churn_grouping = churn_data.groupby('Churn').mean()\n",
    "churn_grouping"
   ]
  },
  {
   "cell_type": "markdown",
   "metadata": {},
   "source": [
    "<div class=\"alert alert-info\">\n",
    "    \n",
    "After grouping by churn category, we can see that features **Promo_friends, Contract_period, Group_visits, Age, Avg_additional_charges_total, Month_to_end_contract, Lifetime and Avg_class_frequency_total** tend to be higher for users who decided to stay.\n",
    "    \n",
    "</div>"
   ]
  },
  {
   "cell_type": "code",
   "execution_count": 11,
   "metadata": {},
   "outputs": [],
   "source": [
    "# Querying data by either Churn 0 or 1\n",
    "churn_data_stayed = churn_data.query('Churn == 0')\n",
    "churn_data_left = churn_data.query('Churn == 1')"
   ]
  },
  {
   "cell_type": "code",
   "execution_count": 12,
   "metadata": {},
   "outputs": [
    {
     "data": {
      "image/png": "[encoded data removed]",
      "text/plain": [
       "<Figure size 432x288 with 1 Axes>"
      ]
     },
     "metadata": {
      "needs_background": "light"
     },
     "output_type": "display_data"
    },
    {
     "data": {
      "image/png": "[encoded data removed]",
      "text/plain": [
       "<Figure size 432x288 with 1 Axes>"
      ]
     },
     "metadata": {
      "needs_background": "light"
     },
     "output_type": "display_data"
    }
   ],
   "source": [
    "# Bar chart for Near_Location\n",
    "sns.countplot(data=churn_data_stayed, x='Near_Location')\n",
    "plt.title('Near Location Chart for Clients who Stayed')\n",
    "plt.show()\n",
    "\n",
    "sns.countplot(data=churn_data_left, x='Near_Location')\n",
    "plt.title('Near Location Bar Chart for Clients who Left')\n",
    "plt.show()"
   ]
  },
  {
   "cell_type": "markdown",
   "metadata": {},
   "source": [
    "<div class=\"alert alert-info\">\n",
    "\n",
    "Clients who stayed tend to be closer to the gym's location than those who left.\n",
    "\n",
    "</div>"
   ]
  },
  {
   "cell_type": "code",
   "execution_count": 13,
   "metadata": {},
   "outputs": [
    {
     "data": {
      "image/png": "[encoded data removed]",
      "text/plain": [
       "<Figure size 432x288 with 1 Axes>"
      ]
     },
     "metadata": {
      "needs_background": "light"
     },
     "output_type": "display_data"
    },
    {
     "data": {
      "image/png": "[encoded data removed]",
      "text/plain": [
       "<Figure size 432x288 with 1 Axes>"
      ]
     },
     "metadata": {
      "needs_background": "light"
     },
     "output_type": "display_data"
    }
   ],
   "source": [
    "# Bar chart for Partner\n",
    "sns.countplot(data=churn_data_stayed, x='Partner')\n",
    "plt.title('Partner Chart for Clients who Stayed')\n",
    "plt.show()\n",
    "\n",
    "sns.countplot(data=churn_data_left, x='Partner')\n",
    "plt.title('Partner Chart for Clients who Left')\n",
    "plt.show()"
   ]
  },
  {
   "cell_type": "markdown",
   "metadata": {},
   "source": [
    "<div class=\"alert alert-info\">\n",
    "\n",
    "Clients who stayed have a major tendency to be part of a partner company.\n",
    "\n",
    "</div>"
   ]
  },
  {
   "cell_type": "code",
   "execution_count": 14,
   "metadata": {},
   "outputs": [
    {
     "data": {
      "image/png": "[encoded data removed]",
      "text/plain": [
       "<Figure size 432x288 with 1 Axes>"
      ]
     },
     "metadata": {
      "needs_background": "light"
     },
     "output_type": "display_data"
    },
    {
     "data": {
      "image/png": "[encoded data removed]",
      "text/plain": [
       "<Figure size 432x288 with 1 Axes>"
      ]
     },
     "metadata": {
      "needs_background": "light"
     },
     "output_type": "display_data"
    }
   ],
   "source": [
    "# Bar chart for Promo_friends\n",
    "sns.countplot(data=churn_data_stayed, x='Promo_friends')\n",
    "plt.title('Promo Friends Chart for Clients who Stayed')\n",
    "plt.show()\n",
    "\n",
    "sns.countplot(data=churn_data_left, x='Promo_friends')\n",
    "plt.title('Promo Friends Bar Chart for Clients who Left')\n",
    "plt.show()"
   ]
  },
  {
   "cell_type": "markdown",
   "metadata": {},
   "source": [
    "<div class=\"alert alert-info\">\n",
    "\n",
    "Clients who stayed tend to sign up with a \"bring a friend\" offer.\n",
    "\n",
    "</div>"
   ]
  },
  {
   "cell_type": "code",
   "execution_count": 15,
   "metadata": {},
   "outputs": [
    {
     "data": {
      "image/png": "[encoded data removed]",
      "text/plain": [
       "<Figure size 432x288 with 1 Axes>"
      ]
     },
     "metadata": {
      "needs_background": "light"
     },
     "output_type": "display_data"
    },
    {
     "data": {
      "image/png": "[encoded data removed]",
      "text/plain": [
       "<Figure size 432x288 with 1 Axes>"
      ]
     },
     "metadata": {
      "needs_background": "light"
     },
     "output_type": "display_data"
    }
   ],
   "source": [
    "# Bar chart for Contract_period\n",
    "sns.countplot(data=churn_data_stayed, x='Contract_period')\n",
    "plt.title('Contract Period Bar Chart for Clients who Stayed')\n",
    "plt.show()\n",
    "\n",
    "sns.countplot(data=churn_data_left, x='Contract_period')\n",
    "plt.title('Contract Period Bar Chart for Clients who Left')\n",
    "plt.show()"
   ]
  },
  {
   "cell_type": "markdown",
   "metadata": {},
   "source": [
    "<div class=\"alert alert-info\">\n",
    "\n",
    "Clients who stayed tend to opt for longer contracts.\n",
    "\n",
    "</div>"
   ]
  },
  {
   "cell_type": "code",
   "execution_count": 16,
   "metadata": {},
   "outputs": [
    {
     "data": {
      "image/png": "[encoded data removed]",
      "text/plain": [
       "<Figure size 432x288 with 1 Axes>"
      ]
     },
     "metadata": {
      "needs_background": "light"
     },
     "output_type": "display_data"
    },
    {
     "data": {
      "image/png": "[encoded data removed]",
      "text/plain": [
       "<Figure size 432x288 with 1 Axes>"
      ]
     },
     "metadata": {
      "needs_background": "light"
     },
     "output_type": "display_data"
    }
   ],
   "source": [
    "# Bar chart for Group_visits\n",
    "sns.countplot(data=churn_data_stayed, x='Group_visits')\n",
    "plt.title('Group Visits Bar Chart for Clients who Stayed')\n",
    "plt.show()\n",
    "\n",
    "sns.countplot(data=churn_data_left, x='Group_visits')\n",
    "plt.title('Group Visits Bar Chart for Clients who Left')\n",
    "plt.show()"
   ]
  },
  {
   "cell_type": "markdown",
   "metadata": {},
   "source": [
    "<div class=\"alert alert-info\">\n",
    "\n",
    "Since our clients who stayed tend to have longer contracts, they also tend to have a higher amount of months for their contracts to end.\n",
    "\n",
    "</div>"
   ]
  },
  {
   "cell_type": "code",
   "execution_count": 17,
   "metadata": {},
   "outputs": [
    {
     "data": {
      "image/png": "[encoded data removed]",
      "text/plain": [
       "<Figure size 432x288 with 1 Axes>"
      ]
     },
     "metadata": {
      "needs_background": "light"
     },
     "output_type": "display_data"
    },
    {
     "data": {
      "image/png": "[encoded data removed]",
      "text/plain": [
       "<Figure size 432x288 with 1 Axes>"
      ]
     },
     "metadata": {
      "needs_background": "light"
     },
     "output_type": "display_data"
    }
   ],
   "source": [
    "# Boxplot plots for age\n",
    "sns.boxplot(data=churn_data_stayed, x='Age')\n",
    "plt.title('Age Distribution for Clients who Stayed')\n",
    "plt.show()\n",
    "\n",
    "sns.boxplot(data=churn_data_left, x='Age')\n",
    "plt.title('Age Distribution for Clients who Left')\n",
    "plt.show()"
   ]
  },
  {
   "cell_type": "markdown",
   "metadata": {},
   "source": [
    "<div class=\"alert alert-info\">\n",
    "\n",
    "Clients who stayed tend to be of an older demographic, but the difference is marginal.\n",
    "\n",
    "</div>"
   ]
  },
  {
   "cell_type": "code",
   "execution_count": 18,
   "metadata": {},
   "outputs": [
    {
     "data": {
      "image/png": "[encoded data removed]",
      "text/plain": [
       "<Figure size 360x360 with 1 Axes>"
      ]
     },
     "metadata": {
      "needs_background": "light"
     },
     "output_type": "display_data"
    },
    {
     "data": {
      "image/png": "[encoded data removed]",
      "text/plain": [
       "<Figure size 360x360 with 1 Axes>"
      ]
     },
     "metadata": {
      "needs_background": "light"
     },
     "output_type": "display_data"
    }
   ],
   "source": [
    "# Distribution plots for age\n",
    "sns.displot(churn_data_stayed['Avg_additional_charges_total'])\n",
    "plt.title('Avg. Additional Charges Distribution for Clients who Stayed')\n",
    "plt.show()\n",
    "\n",
    "sns.displot(churn_data_left['Avg_additional_charges_total'])\n",
    "plt.title('Avg. Additional Charges  Distribution for Clients who Left')\n",
    "plt.show()"
   ]
  },
  {
   "cell_type": "markdown",
   "metadata": {},
   "source": [
    "<div class=\"alert alert-info\">\n",
    "\n",
    "As concluded when we analyzed averages, people who stayed tend to spend more on additional charges.\n",
    "\n",
    "</div>"
   ]
  },
  {
   "cell_type": "code",
   "execution_count": 19,
   "metadata": {},
   "outputs": [
    {
     "data": {
      "image/png": "[encoded data removed]",
      "text/plain": [
       "<Figure size 432x288 with 1 Axes>"
      ]
     },
     "metadata": {
      "needs_background": "light"
     },
     "output_type": "display_data"
    },
    {
     "data": {
      "image/png": "[encoded data removed]",
      "text/plain": [
       "<Figure size 432x288 with 1 Axes>"
      ]
     },
     "metadata": {
      "needs_background": "light"
     },
     "output_type": "display_data"
    }
   ],
   "source": [
    "# Bar chart for Month_to_end_contract\n",
    "sns.countplot(data=churn_data_stayed, x='Month_to_end_contract')\n",
    "plt.title('Months To End Contract Bar Chart for Clients who Stayed')\n",
    "plt.show()\n",
    "\n",
    "sns.countplot(data=churn_data_left, x='Month_to_end_contract')\n",
    "plt.title('Months To End Contract Bar Chart for Clients who Left')\n",
    "plt.show()"
   ]
  },
  {
   "cell_type": "markdown",
   "metadata": {},
   "source": [
    "<div class=\"alert alert-info\">\n",
    "\n",
    "Since our clients who stayed tend to have longer contracts, they also tend to have a higher amount of months for their contracts to end.\n",
    "\n",
    "</div>"
   ]
  },
  {
   "cell_type": "code",
   "execution_count": 20,
   "metadata": {},
   "outputs": [
    {
     "data": {
      "image/png": "[encoded data removed]",
      "text/plain": [
       "<Figure size 360x360 with 1 Axes>"
      ]
     },
     "metadata": {
      "needs_background": "light"
     },
     "output_type": "display_data"
    },
    {
     "data": {
      "image/png": "[encoded data removed]",
      "text/plain": [
       "<Figure size 360x360 with 1 Axes>"
      ]
     },
     "metadata": {
      "needs_background": "light"
     },
     "output_type": "display_data"
    }
   ],
   "source": [
    "# Distribution plots for Lifetime\n",
    "sns.displot(churn_data_stayed['Lifetime'], bins = 10)\n",
    "plt.title('Lifetime Months Distribution for Clients who Stayed')\n",
    "plt.show()\n",
    "\n",
    "sns.displot(churn_data_left['Lifetime'], bins = 10)\n",
    "plt.title('Lifetime Months Distribution for Clients who Left')\n",
    "plt.show()"
   ]
  },
  {
   "cell_type": "markdown",
   "metadata": {},
   "source": [
    "<div class=\"alert alert-info\">\n",
    "    \n",
    "Clients who stayed tend to have a longer customer lifetime.\n",
    "\n",
    "</div>"
   ]
  },
  {
   "cell_type": "code",
   "execution_count": 21,
   "metadata": {},
   "outputs": [
    {
     "data": {
      "image/png": "[encoded data removed]",
      "text/plain": [
       "<Figure size 360x360 with 1 Axes>"
      ]
     },
     "metadata": {
      "needs_background": "light"
     },
     "output_type": "display_data"
    },
    {
     "data": {
      "image/png": "[encoded data removed]",
      "text/plain": [
       "<Figure size 360x360 with 1 Axes>"
      ]
     },
     "metadata": {
      "needs_background": "light"
     },
     "output_type": "display_data"
    }
   ],
   "source": [
    "# Distribution plots for Avg_class_frequency_total\n",
    "# Average frequency of visits per week over the customer's lifetime\n",
    "sns.displot(churn_data_stayed['Avg_class_frequency_total'], bins = 10)\n",
    "plt.title('Lifetime Weekly Class Frequency for Clients who Stayed')\n",
    "plt.show()\n",
    "\n",
    "sns.displot(churn_data_left['Avg_class_frequency_total'], bins = 10)\n",
    "plt.title('Lifetime Weekly Class Frequency for Clients who Left')\n",
    "plt.show()"
   ]
  },
  {
   "cell_type": "markdown",
   "metadata": {},
   "source": [
    "<div class=\"alert alert-info\">\n",
    "    \n",
    "Clients who stayed tend go more times a week than those who left during their lifetime.\n",
    "\n",
    "</div>"
   ]
  },
  {
   "cell_type": "code",
   "execution_count": 22,
   "metadata": {},
   "outputs": [
    {
     "data": {
      "image/png": "[encoded data removed]",
      "text/plain": [
       "<Figure size 360x360 with 1 Axes>"
      ]
     },
     "metadata": {
      "needs_background": "light"
     },
     "output_type": "display_data"
    },
    {
     "data": {
      "image/png": "[encoded data removed]",
      "text/plain": [
       "<Figure size 360x360 with 1 Axes>"
      ]
     },
     "metadata": {
      "needs_background": "light"
     },
     "output_type": "display_data"
    }
   ],
   "source": [
    "# Distribution plots for Avg_class_frequency_current_month\n",
    "# average frequency of visits per week over the preceding month\n",
    "sns.displot(churn_data_stayed['Avg_class_frequency_current_month'], bins = 10)\n",
    "plt.title('Last Month Weekly Frequency for Clients who Stayed')\n",
    "plt.show()\n",
    "\n",
    "sns.displot(churn_data_left['Avg_class_frequency_current_month'], bins = 10)\n",
    "plt.title('Last Month Weekly Frequency for Clients who Left')\n",
    "plt.show()"
   ]
  },
  {
   "cell_type": "markdown",
   "metadata": {},
   "source": [
    "<div class=\"alert alert-info\">\n",
    "    \n",
    "Clients who stayed tend go more times a week in their last month than those who left.\n",
    "\n",
    "</div>"
   ]
  },
  {
   "cell_type": "code",
   "execution_count": 23,
   "metadata": {},
   "outputs": [
    {
     "data": {
      "image/png": "[encoded data removed]",
      "text/plain": [
       "<Figure size 1152x648 with 2 Axes>"
      ]
     },
     "metadata": {
      "needs_background": "light"
     },
     "output_type": "display_data"
    }
   ],
   "source": [
    "# Builing correlation matrix\n",
    "corr_m = churn_data.corr(method = 'pearson', min_periods = 1)\n",
    "\n",
    "# Plotting a heatmap\n",
    "plt.figure(figsize=(16,9))\n",
    "plt.title('Dataset Correlation Matrix Heatmap')\n",
    "sns.heatmap(corr_m, square=True, annot=True)\n",
    "plt.show()"
   ]
  },
  {
   "cell_type": "markdown",
   "metadata": {},
   "source": [
    "<div class=\"alert alert-info\">\n",
    "    \n",
    "Matrix conclusions (Pearson Coefficients of higher than 0.3 are considered relevant):\n",
    "- **Gender**, **Near_location**, **Phone**, **Group_visits**, and **Avg_additional_charges_total** are not correlated with any variable\n",
    "- **Partner** is positively correlated with **Promo_friends**\n",
    "- **Contract_period** almost has a correlation value of 1 with **Month_to_end_contract**\n",
    "- **Avg_class_frequency_total** almost has a correlation value of 1 with **Avg_class_frequency_month**\n",
    "- **Churn** is negatively correlated with **Contract_period**, **Age**, **Month_to_end_contract**, **Lifetime**, and **Avg_class_frequency_month**. This means that the higher these feature values, the less likely a customer is to churn\n",
    "\n",
    "\n",
    "</div>"
   ]
  },
  {
   "cell_type": "markdown",
   "metadata": {},
   "source": [
    "<a id='4heading'></a>"
   ]
  },
  {
   "cell_type": "markdown",
   "metadata": {},
   "source": [
    "## Model to predict User Churn"
   ]
  },
  {
   "cell_type": "code",
   "execution_count": 24,
   "metadata": {},
   "outputs": [],
   "source": [
    "# Importing predictive libraries\n",
    "from sklearn.model_selection import train_test_split\n",
    "from sklearn.linear_model import LogisticRegression\n",
    "from sklearn.ensemble import RandomForestClassifier\n",
    "#from sklearn.metrics import mean_absolute_error, mean_squared_error, r2_score\n",
    "from sklearn.metrics import accuracy_score, precision_score, recall_score, f1_score"
   ]
  },
  {
   "cell_type": "code",
   "execution_count": 25,
   "metadata": {},
   "outputs": [],
   "source": [
    "# Dividing the data into features (the X matrix) and a target variable (y)\n",
    "X = churn_data.drop('Churn', axis=1)\n",
    "y = churn_data['Churn']\n",
    "\n",
    "# Dividing the data into train and test\n",
    "X_train, X_test, y_train, y_test = train_test_split(X, y, test_size=0.2, random_state=0)"
   ]
  },
  {
   "cell_type": "code",
   "execution_count": 26,
   "metadata": {},
   "outputs": [],
   "source": [
    "# Declaring models\n",
    "models = [LogisticRegression(), RandomForestClassifier()]"
   ]
  },
  {
   "cell_type": "code",
   "execution_count": 27,
   "metadata": {},
   "outputs": [],
   "source": [
    "# Function that takes the model and data as input and outputs metrics\n",
    "def make_prediction(m, X_train, y_train, X_test, y_test):\n",
    "    model = m\n",
    "    model.fit(X_train, y_train)\n",
    "    y_pred = model.predict(X_test)\n",
    "    print('Accuracy:{:.2f} Precision:{:.2f} Recall:{:.2f}'.format(accuracy_score(y_test, y_pred), \n",
    "                                                                precision_score(y_test, y_pred),\n",
    "                                                                recall_score(y_test, y_pred)))"
   ]
  },
  {
   "cell_type": "code",
   "execution_count": 28,
   "metadata": {},
   "outputs": [
    {
     "name": "stdout",
     "output_type": "stream",
     "text": [
      "LogisticRegression()\n"
     ]
    },
    {
     "name": "stderr",
     "output_type": "stream",
     "text": [
      "/opt/conda/lib/python3.9/site-packages/sklearn/linear_model/_logistic.py:763: ConvergenceWarning: lbfgs failed to converge (status=1):\n",
      "STOP: TOTAL NO. of ITERATIONS REACHED LIMIT.\n",
      "\n",
      "Increase the number of iterations (max_iter) or scale the data as shown in:\n",
      "    https://scikit-learn.org/stable/modules/preprocessing.html\n",
      "Please also refer to the documentation for alternative solver options:\n",
      "    https://scikit-learn.org/stable/modules/linear_model.html#logistic-regression\n",
      "  n_iter_i = _check_optimize_result(\n"
     ]
    },
    {
     "name": "stdout",
     "output_type": "stream",
     "text": [
      "Accuracy:0.91 Precision:0.82 Recall:0.80\n",
      "RandomForestClassifier()\n",
      "Accuracy:0.92 Precision:0.84 Recall:0.82\n"
     ]
    }
   ],
   "source": [
    "# Loop that outputs metrics for each model\n",
    "for i in models:\n",
    "    print(i)\n",
    "    make_prediction(i, X_train, y_train, X_test, y_test)"
   ]
  },
  {
   "cell_type": "markdown",
   "metadata": {},
   "source": [
    "<div class=\"alert alert-info\">\n",
    "\n",
    "The RandomForectClassifer model did better than the LogisticRegression model in every single metric. This means that RandomForectClassifer is a more optimal solution for this classification problem.\n",
    "\n",
    "</div>"
   ]
  },
  {
   "cell_type": "markdown",
   "metadata": {},
   "source": [
    "<a id='5heading'></a>"
   ]
  },
  {
   "cell_type": "markdown",
   "metadata": {},
   "source": [
    "## Model to create User Clusters"
   ]
  },
  {
   "cell_type": "code",
   "execution_count": 29,
   "metadata": {},
   "outputs": [],
   "source": [
    "from sklearn.preprocessing import StandardScaler\n",
    "from scipy.cluster.hierarchy import dendrogram, linkage \n",
    "from sklearn.cluster import KMeans"
   ]
  },
  {
   "cell_type": "code",
   "execution_count": 30,
   "metadata": {},
   "outputs": [],
   "source": [
    "# Obligatory standardization of data before passing it to the algorithm\n",
    "sc = StandardScaler()\n",
    "X_sc = sc.fit_transform(X)"
   ]
  },
  {
   "cell_type": "code",
   "execution_count": 31,
   "metadata": {},
   "outputs": [],
   "source": [
    "# Linkage function\n",
    "linked = linkage(X_sc, method = 'ward') "
   ]
  },
  {
   "cell_type": "code",
   "execution_count": 32,
   "metadata": {},
   "outputs": [
    {
     "data": {
      "image/png": "[encoded data removed]",
      "text/plain": [
       "<Figure size 1080x720 with 1 Axes>"
      ]
     },
     "metadata": {
      "needs_background": "light"
     },
     "output_type": "display_data"
    }
   ],
   "source": [
    "# Plotting dendogram to obtain K\n",
    "plt.figure(figsize=(15, 10))\n",
    "dendrogram(linked, orientation='top')\n",
    "plt.title('Hierarchical clustering for GYM')\n",
    "plt.show()"
   ]
  },
  {
   "cell_type": "code",
   "execution_count": 33,
   "metadata": {},
   "outputs": [],
   "source": [
    "# Applying 5 clusters to cluster algorithm\n",
    "km = KMeans(n_clusters = 5)\n",
    "labels = km.fit_predict(X_sc) # forming a cluster vector"
   ]
  },
  {
   "cell_type": "code",
   "execution_count": 34,
   "metadata": {},
   "outputs": [
    {
     "data": {
      "text/html": [
       "<div>\n",
       "<style scoped>\n",
       "    .dataframe tbody tr th:only-of-type {\n",
       "        vertical-align: middle;\n",
       "    }\n",
       "\n",
       "    .dataframe tbody tr th {\n",
       "        vertical-align: top;\n",
       "    }\n",
       "\n",
       "    .dataframe thead th {\n",
       "        text-align: right;\n",
       "    }\n",
       "</style>\n",
       "<table border=\"1\" class=\"dataframe\">\n",
       "  <thead>\n",
       "    <tr style=\"text-align: right;\">\n",
       "      <th></th>\n",
       "      <th>gender</th>\n",
       "      <th>Near_Location</th>\n",
       "      <th>Partner</th>\n",
       "      <th>Promo_friends</th>\n",
       "      <th>Phone</th>\n",
       "      <th>Contract_period</th>\n",
       "      <th>Group_visits</th>\n",
       "      <th>Age</th>\n",
       "      <th>Avg_additional_charges_total</th>\n",
       "      <th>Month_to_end_contract</th>\n",
       "      <th>Lifetime</th>\n",
       "      <th>Avg_class_frequency_total</th>\n",
       "      <th>Avg_class_frequency_current_month</th>\n",
       "      <th>Churn</th>\n",
       "      <th>cluster_km</th>\n",
       "    </tr>\n",
       "  </thead>\n",
       "  <tbody>\n",
       "    <tr>\n",
       "      <th>0</th>\n",
       "      <td>True</td>\n",
       "      <td>True</td>\n",
       "      <td>True</td>\n",
       "      <td>True</td>\n",
       "      <td>False</td>\n",
       "      <td>6</td>\n",
       "      <td>True</td>\n",
       "      <td>29</td>\n",
       "      <td>14.227470</td>\n",
       "      <td>5</td>\n",
       "      <td>3</td>\n",
       "      <td>0.020398</td>\n",
       "      <td>0.000000</td>\n",
       "      <td>False</td>\n",
       "      <td>2</td>\n",
       "    </tr>\n",
       "    <tr>\n",
       "      <th>1</th>\n",
       "      <td>False</td>\n",
       "      <td>True</td>\n",
       "      <td>False</td>\n",
       "      <td>False</td>\n",
       "      <td>True</td>\n",
       "      <td>12</td>\n",
       "      <td>True</td>\n",
       "      <td>31</td>\n",
       "      <td>113.202938</td>\n",
       "      <td>12</td>\n",
       "      <td>7</td>\n",
       "      <td>1.922936</td>\n",
       "      <td>1.910244</td>\n",
       "      <td>False</td>\n",
       "      <td>0</td>\n",
       "    </tr>\n",
       "    <tr>\n",
       "      <th>2</th>\n",
       "      <td>False</td>\n",
       "      <td>True</td>\n",
       "      <td>True</td>\n",
       "      <td>False</td>\n",
       "      <td>True</td>\n",
       "      <td>1</td>\n",
       "      <td>False</td>\n",
       "      <td>28</td>\n",
       "      <td>129.448479</td>\n",
       "      <td>1</td>\n",
       "      <td>2</td>\n",
       "      <td>1.859098</td>\n",
       "      <td>1.736502</td>\n",
       "      <td>False</td>\n",
       "      <td>1</td>\n",
       "    </tr>\n",
       "    <tr>\n",
       "      <th>3</th>\n",
       "      <td>False</td>\n",
       "      <td>True</td>\n",
       "      <td>True</td>\n",
       "      <td>True</td>\n",
       "      <td>True</td>\n",
       "      <td>12</td>\n",
       "      <td>True</td>\n",
       "      <td>33</td>\n",
       "      <td>62.669863</td>\n",
       "      <td>12</td>\n",
       "      <td>2</td>\n",
       "      <td>3.205633</td>\n",
       "      <td>3.357215</td>\n",
       "      <td>False</td>\n",
       "      <td>0</td>\n",
       "    </tr>\n",
       "    <tr>\n",
       "      <th>4</th>\n",
       "      <td>True</td>\n",
       "      <td>True</td>\n",
       "      <td>True</td>\n",
       "      <td>True</td>\n",
       "      <td>True</td>\n",
       "      <td>1</td>\n",
       "      <td>False</td>\n",
       "      <td>26</td>\n",
       "      <td>198.362265</td>\n",
       "      <td>1</td>\n",
       "      <td>3</td>\n",
       "      <td>1.113884</td>\n",
       "      <td>1.120078</td>\n",
       "      <td>False</td>\n",
       "      <td>2</td>\n",
       "    </tr>\n",
       "  </tbody>\n",
       "</table>\n",
       "</div>"
      ],
      "text/plain": [
       "   gender  Near_Location  Partner  Promo_friends  Phone  Contract_period  \\\n",
       "0    True           True     True           True  False                6   \n",
       "1   False           True    False          False   True               12   \n",
       "2   False           True     True          False   True                1   \n",
       "3   False           True     True           True   True               12   \n",
       "4    True           True     True           True   True                1   \n",
       "\n",
       "   Group_visits  Age  Avg_additional_charges_total  Month_to_end_contract  \\\n",
       "0          True   29                     14.227470                      5   \n",
       "1          True   31                    113.202938                     12   \n",
       "2         False   28                    129.448479                      1   \n",
       "3          True   33                     62.669863                     12   \n",
       "4         False   26                    198.362265                      1   \n",
       "\n",
       "   Lifetime  Avg_class_frequency_total  Avg_class_frequency_current_month  \\\n",
       "0         3                   0.020398                           0.000000   \n",
       "1         7                   1.922936                           1.910244   \n",
       "2         2                   1.859098                           1.736502   \n",
       "3         2                   3.205633                           3.357215   \n",
       "4         3                   1.113884                           1.120078   \n",
       "\n",
       "   Churn  cluster_km  \n",
       "0  False           2  \n",
       "1  False           0  \n",
       "2  False           1  \n",
       "3  False           0  \n",
       "4  False           2  "
      ]
     },
     "execution_count": 34,
     "metadata": {},
     "output_type": "execute_result"
    }
   ],
   "source": [
    "# Adding labeling vector to dataset\n",
    "churn_data['cluster_km'] = labels\n",
    "churn_data.head()"
   ]
  },
  {
   "cell_type": "code",
   "execution_count": 35,
   "metadata": {},
   "outputs": [
    {
     "data": {
      "text/html": [
       "<div>\n",
       "<style scoped>\n",
       "    .dataframe tbody tr th:only-of-type {\n",
       "        vertical-align: middle;\n",
       "    }\n",
       "\n",
       "    .dataframe tbody tr th {\n",
       "        vertical-align: top;\n",
       "    }\n",
       "\n",
       "    .dataframe thead th {\n",
       "        text-align: right;\n",
       "    }\n",
       "</style>\n",
       "<table border=\"1\" class=\"dataframe\">\n",
       "  <thead>\n",
       "    <tr style=\"text-align: right;\">\n",
       "      <th></th>\n",
       "      <th>gender</th>\n",
       "      <th>Near_Location</th>\n",
       "      <th>Partner</th>\n",
       "      <th>Promo_friends</th>\n",
       "      <th>Phone</th>\n",
       "      <th>Contract_period</th>\n",
       "      <th>Group_visits</th>\n",
       "      <th>Age</th>\n",
       "      <th>Avg_additional_charges_total</th>\n",
       "      <th>Month_to_end_contract</th>\n",
       "      <th>Lifetime</th>\n",
       "      <th>Avg_class_frequency_total</th>\n",
       "      <th>Avg_class_frequency_current_month</th>\n",
       "      <th>Churn</th>\n",
       "    </tr>\n",
       "    <tr>\n",
       "      <th>cluster_km</th>\n",
       "      <th></th>\n",
       "      <th></th>\n",
       "      <th></th>\n",
       "      <th></th>\n",
       "      <th></th>\n",
       "      <th></th>\n",
       "      <th></th>\n",
       "      <th></th>\n",
       "      <th></th>\n",
       "      <th></th>\n",
       "      <th></th>\n",
       "      <th></th>\n",
       "      <th></th>\n",
       "      <th></th>\n",
       "    </tr>\n",
       "  </thead>\n",
       "  <tbody>\n",
       "    <tr>\n",
       "      <th>0</th>\n",
       "      <td>0.501604</td>\n",
       "      <td>0.944385</td>\n",
       "      <td>0.740107</td>\n",
       "      <td>0.486631</td>\n",
       "      <td>0.901604</td>\n",
       "      <td>11.890909</td>\n",
       "      <td>0.550802</td>\n",
       "      <td>29.917647</td>\n",
       "      <td>164.840890</td>\n",
       "      <td>10.886631</td>\n",
       "      <td>4.697326</td>\n",
       "      <td>1.995918</td>\n",
       "      <td>1.987415</td>\n",
       "      <td>0.022460</td>\n",
       "    </tr>\n",
       "    <tr>\n",
       "      <th>1</th>\n",
       "      <td>0.482143</td>\n",
       "      <td>1.000000</td>\n",
       "      <td>0.244643</td>\n",
       "      <td>0.017857</td>\n",
       "      <td>0.900893</td>\n",
       "      <td>1.987500</td>\n",
       "      <td>0.319643</td>\n",
       "      <td>28.231250</td>\n",
       "      <td>131.071537</td>\n",
       "      <td>1.903571</td>\n",
       "      <td>2.428571</td>\n",
       "      <td>1.286383</td>\n",
       "      <td>1.047105</td>\n",
       "      <td>0.523214</td>\n",
       "    </tr>\n",
       "    <tr>\n",
       "      <th>2</th>\n",
       "      <td>0.485179</td>\n",
       "      <td>0.998440</td>\n",
       "      <td>0.817473</td>\n",
       "      <td>1.000000</td>\n",
       "      <td>0.900156</td>\n",
       "      <td>3.143526</td>\n",
       "      <td>0.455538</td>\n",
       "      <td>29.182527</td>\n",
       "      <td>141.147858</td>\n",
       "      <td>2.906396</td>\n",
       "      <td>3.672387</td>\n",
       "      <td>1.720163</td>\n",
       "      <td>1.612149</td>\n",
       "      <td>0.249610</td>\n",
       "    </tr>\n",
       "    <tr>\n",
       "      <th>3</th>\n",
       "      <td>0.593421</td>\n",
       "      <td>0.971053</td>\n",
       "      <td>0.267105</td>\n",
       "      <td>0.100000</td>\n",
       "      <td>0.903947</td>\n",
       "      <td>2.847368</td>\n",
       "      <td>0.482895</td>\n",
       "      <td>30.189474</td>\n",
       "      <td>162.734136</td>\n",
       "      <td>2.617105</td>\n",
       "      <td>5.157895</td>\n",
       "      <td>2.900996</td>\n",
       "      <td>2.902436</td>\n",
       "      <td>0.064474</td>\n",
       "    </tr>\n",
       "    <tr>\n",
       "      <th>4</th>\n",
       "      <td>0.496324</td>\n",
       "      <td>0.000000</td>\n",
       "      <td>0.466912</td>\n",
       "      <td>0.077206</td>\n",
       "      <td>0.915441</td>\n",
       "      <td>2.209559</td>\n",
       "      <td>0.215074</td>\n",
       "      <td>28.483456</td>\n",
       "      <td>133.630215</td>\n",
       "      <td>2.073529</td>\n",
       "      <td>2.781250</td>\n",
       "      <td>1.657657</td>\n",
       "      <td>1.466870</td>\n",
       "      <td>0.450368</td>\n",
       "    </tr>\n",
       "  </tbody>\n",
       "</table>\n",
       "</div>"
      ],
      "text/plain": [
       "              gender  Near_Location   Partner  Promo_friends     Phone  \\\n",
       "cluster_km                                                               \n",
       "0           0.501604       0.944385  0.740107       0.486631  0.901604   \n",
       "1           0.482143       1.000000  0.244643       0.017857  0.900893   \n",
       "2           0.485179       0.998440  0.817473       1.000000  0.900156   \n",
       "3           0.593421       0.971053  0.267105       0.100000  0.903947   \n",
       "4           0.496324       0.000000  0.466912       0.077206  0.915441   \n",
       "\n",
       "            Contract_period  Group_visits        Age  \\\n",
       "cluster_km                                             \n",
       "0                 11.890909      0.550802  29.917647   \n",
       "1                  1.987500      0.319643  28.231250   \n",
       "2                  3.143526      0.455538  29.182527   \n",
       "3                  2.847368      0.482895  30.189474   \n",
       "4                  2.209559      0.215074  28.483456   \n",
       "\n",
       "            Avg_additional_charges_total  Month_to_end_contract  Lifetime  \\\n",
       "cluster_km                                                                  \n",
       "0                             164.840890              10.886631  4.697326   \n",
       "1                             131.071537               1.903571  2.428571   \n",
       "2                             141.147858               2.906396  3.672387   \n",
       "3                             162.734136               2.617105  5.157895   \n",
       "4                             133.630215               2.073529  2.781250   \n",
       "\n",
       "            Avg_class_frequency_total  Avg_class_frequency_current_month  \\\n",
       "cluster_km                                                                 \n",
       "0                            1.995918                           1.987415   \n",
       "1                            1.286383                           1.047105   \n",
       "2                            1.720163                           1.612149   \n",
       "3                            2.900996                           2.902436   \n",
       "4                            1.657657                           1.466870   \n",
       "\n",
       "               Churn  \n",
       "cluster_km            \n",
       "0           0.022460  \n",
       "1           0.523214  \n",
       "2           0.249610  \n",
       "3           0.064474  \n",
       "4           0.450368  "
      ]
     },
     "execution_count": 35,
     "metadata": {},
     "output_type": "execute_result"
    }
   ],
   "source": [
    "# Getting the statistics of the mean feature values per cluster \n",
    "churn_data.groupby('cluster_km').mean()"
   ]
  },
  {
   "cell_type": "markdown",
   "metadata": {},
   "source": [
    "<div class=\"alert alert-info\">\n",
    "    \n",
    "**Cluster 2** has the lowest churn rate at 2.8%. Almost 80% of them are part of a partner company. They have the highest tendency of being referred by a friend, and they opt for the longest contract periods. They also spend a lot on additional charges and on average have a long lifetime. These users hit the gym the second most.\n",
    "\n",
    "\n",
    "**Cluster 4** has the second lowest churn rate at 6.8%. They opt for low contract_periods, but tend to join group sessions. They spend the most on additional charges and on average have the longest lifetime. These users hit the gym the most.\n",
    "\n",
    "**Cluster 3** has the highest churn rate at 51%. **Cluster 1** has a very high churn rate of 44%. **Cluster 0** has an intermediate churn rate of 27%. They all opt for low contract periods, spend the least on additional charges and also hit the gym less than Clusters 2 and 4.\n",
    "    \n",
    "NO ONE in **Cluster 0** provides their phone #. The rest of users almost always do.  \n",
    "NO ONE in **Cluster 1** lives near the gym. The rest of users almost always do.\n",
    "\n",
    "</div>"
   ]
  },
  {
   "cell_type": "markdown",
   "metadata": {},
   "source": [
    "<a id='6heading'></a>"
   ]
  },
  {
   "cell_type": "markdown",
   "metadata": {},
   "source": [
    "## Conclusions and Recommendations"
   ]
  },
  {
   "cell_type": "markdown",
   "metadata": {},
   "source": [
    "After having analyzed our user data, we divided Model Fitness' clients into 5 seprate clusters. **Clusters 2 and 4** have very low churn rates, while the other three clusters have substantial churn rates.\n",
    "\n",
    "Our first recommendation to improve **Clusters' 0, 1 and 3** churn rates is to have them participate in more group sessions. Cluster 4 indicates that a higher tendency to join group sessions may improve churn rate. Special offers to attend these sessions could sway people into attending them while also increasing users' additional expenses. Which brings us to our second point.  \n",
    "\n",
    "Our second recommendation is to have users from **Clusters 0, 1 and 3** spend more on additional services. Their increased investment in Model Fitness could relay a higher sense of conviction, and potentially even increase weekly session amounts.\n",
    "\n",
    "Our third recommendation, as mentioned in the last point, is the try and make users come more often into the gym. Perhaps a punch card system that rewards consistent attendees would increase average weekly attendance.\n",
    "\n",
    "Our last recommendation is to try and make users opt in for longer contracts. Temporary special discounts could influence clients into signing longer contracts. For example, Model Fitness could price a 12 month contract just slightly above a 6 month contract during the holiday months, which may create a sense of urgnecy to opt in for."
   ]
  }
 ],
 "metadata": {
  "ExecuteTimeLog": [
   {
    "duration": 48,
    "start_time": "2022-03-21T19:49:02.023Z"
   },
   {
    "duration": 1257,
    "start_time": "2022-03-21T19:49:20.839Z"
   },
   {
    "duration": 42,
    "start_time": "2022-03-21T19:49:25.016Z"
   },
   {
    "duration": 29,
    "start_time": "2022-03-21T19:50:47.624Z"
   },
   {
    "duration": 20,
    "start_time": "2022-03-21T19:50:53.994Z"
   },
   {
    "duration": 55,
    "start_time": "2022-03-21T19:51:30.705Z"
   },
   {
    "duration": 53,
    "start_time": "2022-03-21T20:42:44.179Z"
   },
   {
    "duration": 7,
    "start_time": "2022-03-21T20:42:48.003Z"
   },
   {
    "duration": 5,
    "start_time": "2022-03-21T20:45:09.029Z"
   },
   {
    "duration": 4,
    "start_time": "2022-03-21T20:45:40.221Z"
   },
   {
    "duration": 5,
    "start_time": "2022-03-21T20:45:45.209Z"
   },
   {
    "duration": 9,
    "start_time": "2022-03-21T20:53:13.601Z"
   },
   {
    "duration": 5,
    "start_time": "2022-03-21T20:53:15.725Z"
   },
   {
    "duration": 9,
    "start_time": "2022-03-21T20:54:42.612Z"
   },
   {
    "duration": 24,
    "start_time": "2022-03-21T21:17:24.655Z"
   },
   {
    "duration": 7,
    "start_time": "2022-03-21T21:20:51.005Z"
   },
   {
    "duration": 16,
    "start_time": "2022-03-21T21:20:56.458Z"
   },
   {
    "duration": 15,
    "start_time": "2022-03-21T21:21:34.730Z"
   },
   {
    "duration": 12,
    "start_time": "2022-03-21T21:24:09.665Z"
   },
   {
    "duration": 56,
    "start_time": "2022-03-21T21:24:17.057Z"
   },
   {
    "duration": 1340,
    "start_time": "2022-03-21T21:24:19.533Z"
   },
   {
    "duration": 1225,
    "start_time": "2022-03-21T21:24:39.078Z"
   },
   {
    "duration": 1243,
    "start_time": "2022-03-21T21:24:50.626Z"
   },
   {
    "duration": 1297,
    "start_time": "2022-03-21T21:30:56.462Z"
   },
   {
    "duration": 479,
    "start_time": "2022-03-21T21:31:06.823Z"
   },
   {
    "duration": 1230,
    "start_time": "2022-03-21T21:32:16.656Z"
   },
   {
    "duration": 1299,
    "start_time": "2022-03-21T21:32:56.534Z"
   },
   {
    "duration": 1387,
    "start_time": "2022-03-21T21:33:01.537Z"
   },
   {
    "duration": 1296,
    "start_time": "2022-03-21T21:33:45.325Z"
   },
   {
    "duration": 1296,
    "start_time": "2022-03-21T21:34:46.480Z"
   },
   {
    "duration": 120,
    "start_time": "2022-03-21T22:10:17.539Z"
   },
   {
    "duration": 23,
    "start_time": "2022-03-21T22:11:44.121Z"
   },
   {
    "duration": 17,
    "start_time": "2022-03-21T22:12:38.152Z"
   },
   {
    "duration": 17,
    "start_time": "2022-03-21T22:13:25.530Z"
   },
   {
    "duration": 73,
    "start_time": "2022-03-21T22:13:31.171Z"
   },
   {
    "duration": 68,
    "start_time": "2022-03-21T22:13:35.276Z"
   },
   {
    "duration": 5,
    "start_time": "2022-03-21T22:13:47.094Z"
   },
   {
    "duration": 7,
    "start_time": "2022-03-21T22:13:52.755Z"
   },
   {
    "duration": 4,
    "start_time": "2022-03-21T22:14:29.886Z"
   },
   {
    "duration": 4,
    "start_time": "2022-03-21T22:14:34.438Z"
   },
   {
    "duration": 157,
    "start_time": "2022-03-21T22:15:21.367Z"
   },
   {
    "duration": 12,
    "start_time": "2022-03-21T22:15:24.967Z"
   },
   {
    "duration": 156,
    "start_time": "2022-03-21T22:15:50.911Z"
   },
   {
    "duration": 2067,
    "start_time": "2022-03-21T22:23:54.826Z"
   },
   {
    "duration": 161,
    "start_time": "2022-03-21T22:24:08.148Z"
   },
   {
    "duration": 326,
    "start_time": "2022-03-21T22:25:49.997Z"
   },
   {
    "duration": 783,
    "start_time": "2022-03-21T22:26:08.877Z"
   },
   {
    "duration": 599,
    "start_time": "2022-03-21T22:34:38.228Z"
   },
   {
    "duration": 1067,
    "start_time": "2022-03-21T22:37:16.340Z"
   },
   {
    "duration": 17,
    "start_time": "2022-03-21T22:37:17.408Z"
   },
   {
    "duration": 60,
    "start_time": "2022-03-21T22:37:17.426Z"
   },
   {
    "duration": 7,
    "start_time": "2022-03-21T22:37:17.488Z"
   },
   {
    "duration": 6,
    "start_time": "2022-03-21T22:37:17.496Z"
   },
   {
    "duration": 30,
    "start_time": "2022-03-21T22:37:17.503Z"
   },
   {
    "duration": 5,
    "start_time": "2022-03-21T22:37:17.535Z"
   },
   {
    "duration": 9,
    "start_time": "2022-03-21T22:37:17.541Z"
   },
   {
    "duration": 23,
    "start_time": "2022-03-21T22:37:17.552Z"
   },
   {
    "duration": 16,
    "start_time": "2022-03-21T22:37:17.578Z"
   },
   {
    "duration": 39,
    "start_time": "2022-03-21T22:37:17.595Z"
   },
   {
    "duration": 626,
    "start_time": "2022-03-21T22:37:17.636Z"
   },
   {
    "duration": 601,
    "start_time": "2022-03-21T22:37:18.264Z"
   },
   {
    "duration": 1282,
    "start_time": "2022-03-21T22:37:18.866Z"
   },
   {
    "duration": 850,
    "start_time": "2022-03-21T22:43:49.887Z"
   },
   {
    "duration": 635,
    "start_time": "2022-03-21T22:44:01.835Z"
   },
   {
    "duration": 584,
    "start_time": "2022-03-21T22:44:50.620Z"
   },
   {
    "duration": 92,
    "start_time": "2022-03-21T22:46:11.550Z"
   },
   {
    "duration": 78,
    "start_time": "2022-03-21T22:46:25.297Z"
   },
   {
    "duration": 90,
    "start_time": "2022-03-21T22:46:31.531Z"
   },
   {
    "duration": 106,
    "start_time": "2022-03-21T22:46:34.529Z"
   },
   {
    "duration": 89,
    "start_time": "2022-03-21T22:50:53.309Z"
   },
   {
    "duration": 250,
    "start_time": "2022-03-21T22:51:14.251Z"
   },
   {
    "duration": 102,
    "start_time": "2022-03-21T22:51:38.206Z"
   },
   {
    "duration": 163,
    "start_time": "2022-03-21T22:52:31.360Z"
   },
   {
    "duration": 180,
    "start_time": "2022-03-21T22:54:45.190Z"
   },
   {
    "duration": 175,
    "start_time": "2022-03-21T23:27:08.846Z"
   },
   {
    "duration": 183,
    "start_time": "2022-03-21T23:27:23.734Z"
   },
   {
    "duration": 179,
    "start_time": "2022-03-21T23:27:53.609Z"
   },
   {
    "duration": 171,
    "start_time": "2022-03-21T23:29:23.195Z"
   },
   {
    "duration": 266,
    "start_time": "2022-03-21T23:30:38.681Z"
   },
   {
    "duration": 191,
    "start_time": "2022-03-21T23:30:53.791Z"
   },
   {
    "duration": 173,
    "start_time": "2022-03-21T23:31:35.085Z"
   },
   {
    "duration": 180,
    "start_time": "2022-03-21T23:32:26.395Z"
   },
   {
    "duration": 194,
    "start_time": "2022-03-21T23:34:59.251Z"
   },
   {
    "duration": 182,
    "start_time": "2022-03-21T23:35:50.285Z"
   },
   {
    "duration": 183,
    "start_time": "2022-03-21T23:35:53.477Z"
   },
   {
    "duration": 275,
    "start_time": "2022-03-21T23:36:15.176Z"
   },
   {
    "duration": 188,
    "start_time": "2022-03-21T23:36:22.016Z"
   },
   {
    "duration": 195,
    "start_time": "2022-03-21T23:36:57.810Z"
   },
   {
    "duration": 208,
    "start_time": "2022-03-21T23:37:03.659Z"
   },
   {
    "duration": 576,
    "start_time": "2022-03-21T23:38:16.418Z"
   },
   {
    "duration": 269,
    "start_time": "2022-03-21T23:38:44.851Z"
   },
   {
    "duration": 346,
    "start_time": "2022-03-21T23:40:31.609Z"
   },
   {
    "duration": 594,
    "start_time": "2022-03-21T23:40:55.366Z"
   },
   {
    "duration": 642,
    "start_time": "2022-03-21T23:46:13.696Z"
   },
   {
    "duration": 581,
    "start_time": "2022-03-21T23:46:23.016Z"
   },
   {
    "duration": 544,
    "start_time": "2022-03-21T23:46:39.468Z"
   },
   {
    "duration": 639,
    "start_time": "2022-03-21T23:46:54.487Z"
   },
   {
    "duration": 583,
    "start_time": "2022-03-21T23:47:01.814Z"
   },
   {
    "duration": 578,
    "start_time": "2022-03-21T23:47:44.625Z"
   },
   {
    "duration": 540,
    "start_time": "2022-03-21T23:48:28.076Z"
   },
   {
    "duration": 617,
    "start_time": "2022-03-22T00:44:05.218Z"
   },
   {
    "duration": 691,
    "start_time": "2022-03-22T00:46:58.501Z"
   },
   {
    "duration": 620,
    "start_time": "2022-03-22T00:47:48.199Z"
   },
   {
    "duration": 595,
    "start_time": "2022-03-22T00:48:31.596Z"
   },
   {
    "duration": 572,
    "start_time": "2022-03-22T00:50:09.887Z"
   },
   {
    "duration": 581,
    "start_time": "2022-03-22T00:50:24.860Z"
   },
   {
    "duration": 110,
    "start_time": "2022-03-22T00:51:21.799Z"
   },
   {
    "duration": 10,
    "start_time": "2022-03-22T01:29:58.244Z"
   },
   {
    "duration": 410,
    "start_time": "2022-03-22T01:32:46.968Z"
   },
   {
    "duration": 1026,
    "start_time": "2022-03-22T01:32:54.571Z"
   },
   {
    "duration": 17,
    "start_time": "2022-03-22T01:32:55.598Z"
   },
   {
    "duration": 61,
    "start_time": "2022-03-22T01:32:55.617Z"
   },
   {
    "duration": 7,
    "start_time": "2022-03-22T01:32:55.680Z"
   },
   {
    "duration": 4,
    "start_time": "2022-03-22T01:32:55.688Z"
   },
   {
    "duration": 9,
    "start_time": "2022-03-22T01:32:55.694Z"
   },
   {
    "duration": 30,
    "start_time": "2022-03-22T01:32:55.704Z"
   },
   {
    "duration": 10,
    "start_time": "2022-03-22T01:32:55.735Z"
   },
   {
    "duration": 23,
    "start_time": "2022-03-22T01:32:55.747Z"
   },
   {
    "duration": 13,
    "start_time": "2022-03-22T01:32:55.773Z"
   },
   {
    "duration": 7,
    "start_time": "2022-03-22T01:32:55.788Z"
   },
   {
    "duration": 225,
    "start_time": "2022-03-22T01:32:55.796Z"
   },
   {
    "duration": 191,
    "start_time": "2022-03-22T01:32:56.022Z"
   },
   {
    "duration": 184,
    "start_time": "2022-03-22T01:32:56.215Z"
   },
   {
    "duration": 183,
    "start_time": "2022-03-22T01:32:56.400Z"
   },
   {
    "duration": 270,
    "start_time": "2022-03-22T01:32:56.585Z"
   },
   {
    "duration": 177,
    "start_time": "2022-03-22T01:32:56.857Z"
   },
   {
    "duration": 571,
    "start_time": "2022-03-22T01:32:57.036Z"
   },
   {
    "duration": 281,
    "start_time": "2022-03-22T01:32:57.609Z"
   },
   {
    "duration": 610,
    "start_time": "2022-03-22T01:32:57.892Z"
   },
   {
    "duration": 614,
    "start_time": "2022-03-22T01:32:58.504Z"
   },
   {
    "duration": 676,
    "start_time": "2022-03-22T01:32:59.120Z"
   },
   {
    "duration": 1336,
    "start_time": "2022-03-22T01:32:59.797Z"
   },
   {
    "duration": 324,
    "start_time": "2022-03-22T01:33:01.135Z"
   },
   {
    "duration": 7,
    "start_time": "2022-03-22T01:33:01.461Z"
   },
   {
    "duration": 3,
    "start_time": "2022-03-22T01:37:56.606Z"
   },
   {
    "duration": 4,
    "start_time": "2022-03-22T01:44:42.510Z"
   },
   {
    "duration": 1932,
    "start_time": "2022-03-22T01:45:12.347Z"
   },
   {
    "duration": 2,
    "start_time": "2022-03-22T01:46:43.800Z"
   },
   {
    "duration": 3,
    "start_time": "2022-03-22T01:46:50.949Z"
   },
   {
    "duration": 803,
    "start_time": "2022-03-22T01:46:52.533Z"
   },
   {
    "duration": 2,
    "start_time": "2022-03-22T01:47:08.598Z"
   },
   {
    "duration": 652,
    "start_time": "2022-03-22T01:47:10.726Z"
   },
   {
    "duration": 9,
    "start_time": "2022-03-22T01:47:37.528Z"
   },
   {
    "duration": 9,
    "start_time": "2022-03-22T01:48:03.294Z"
   },
   {
    "duration": 3,
    "start_time": "2022-03-22T01:48:10.264Z"
   },
   {
    "duration": 3,
    "start_time": "2022-03-22T01:48:11.584Z"
   },
   {
    "duration": 3,
    "start_time": "2022-03-22T01:48:13.185Z"
   },
   {
    "duration": 1289,
    "start_time": "2022-03-22T01:48:14.460Z"
   },
   {
    "duration": 1840,
    "start_time": "2022-03-22T22:01:04.624Z"
   },
   {
    "duration": 67,
    "start_time": "2022-03-22T22:01:06.467Z"
   },
   {
    "duration": 109,
    "start_time": "2022-03-22T22:01:06.536Z"
   },
   {
    "duration": 15,
    "start_time": "2022-03-22T22:01:06.649Z"
   },
   {
    "duration": 26,
    "start_time": "2022-03-22T22:01:06.667Z"
   },
   {
    "duration": 30,
    "start_time": "2022-03-22T22:01:06.695Z"
   },
   {
    "duration": 18,
    "start_time": "2022-03-22T22:01:06.727Z"
   },
   {
    "duration": 21,
    "start_time": "2022-03-22T22:01:06.748Z"
   },
   {
    "duration": 45,
    "start_time": "2022-03-22T22:01:06.772Z"
   },
   {
    "duration": 25,
    "start_time": "2022-03-22T22:01:06.823Z"
   },
   {
    "duration": 39,
    "start_time": "2022-03-22T22:01:06.852Z"
   },
   {
    "duration": 367,
    "start_time": "2022-03-22T22:01:06.893Z"
   },
   {
    "duration": 372,
    "start_time": "2022-03-22T22:01:07.263Z"
   },
   {
    "duration": 359,
    "start_time": "2022-03-22T22:01:07.638Z"
   },
   {
    "duration": 374,
    "start_time": "2022-03-22T22:01:07.999Z"
   },
   {
    "duration": 465,
    "start_time": "2022-03-22T22:01:08.375Z"
   },
   {
    "duration": 346,
    "start_time": "2022-03-22T22:01:08.843Z"
   },
   {
    "duration": 963,
    "start_time": "2022-03-22T22:01:09.192Z"
   },
   {
    "duration": 522,
    "start_time": "2022-03-22T22:01:10.157Z"
   },
   {
    "duration": 874,
    "start_time": "2022-03-22T22:01:10.684Z"
   },
   {
    "duration": 950,
    "start_time": "2022-03-22T22:01:11.560Z"
   },
   {
    "duration": 1137,
    "start_time": "2022-03-22T22:01:12.512Z"
   },
   {
    "duration": 2605,
    "start_time": "2022-03-22T22:01:13.652Z"
   },
   {
    "duration": 585,
    "start_time": "2022-03-22T22:01:16.260Z"
   },
   {
    "duration": 11,
    "start_time": "2022-03-22T22:01:16.848Z"
   },
   {
    "duration": 10,
    "start_time": "2022-03-22T22:01:16.862Z"
   },
   {
    "duration": 13,
    "start_time": "2022-03-22T22:01:16.883Z"
   },
   {
    "duration": 2411,
    "start_time": "2022-03-22T22:01:16.902Z"
   },
   {
    "duration": 1610,
    "start_time": "2022-03-22T22:02:04.006Z"
   },
   {
    "duration": 22,
    "start_time": "2022-03-22T22:02:05.619Z"
   },
   {
    "duration": 121,
    "start_time": "2022-03-22T22:02:05.643Z"
   },
   {
    "duration": 26,
    "start_time": "2022-03-22T22:02:05.767Z"
   },
   {
    "duration": 24,
    "start_time": "2022-03-22T22:02:05.799Z"
   },
   {
    "duration": 21,
    "start_time": "2022-03-22T22:02:05.826Z"
   },
   {
    "duration": 32,
    "start_time": "2022-03-22T22:02:05.849Z"
   },
   {
    "duration": 41,
    "start_time": "2022-03-22T22:02:05.884Z"
   },
   {
    "duration": 41,
    "start_time": "2022-03-22T22:02:05.928Z"
   },
   {
    "duration": 30,
    "start_time": "2022-03-22T22:02:05.973Z"
   },
   {
    "duration": 13,
    "start_time": "2022-03-22T22:02:06.005Z"
   },
   {
    "duration": 392,
    "start_time": "2022-03-22T22:02:06.020Z"
   },
   {
    "duration": 385,
    "start_time": "2022-03-22T22:02:06.415Z"
   },
   {
    "duration": 355,
    "start_time": "2022-03-22T22:02:06.803Z"
   },
   {
    "duration": 469,
    "start_time": "2022-03-22T22:02:07.160Z"
   },
   {
    "duration": 462,
    "start_time": "2022-03-22T22:02:07.631Z"
   },
   {
    "duration": 331,
    "start_time": "2022-03-22T22:02:08.095Z"
   },
   {
    "duration": 999,
    "start_time": "2022-03-22T22:02:08.428Z"
   },
   {
    "duration": 521,
    "start_time": "2022-03-22T22:02:09.429Z"
   },
   {
    "duration": 999,
    "start_time": "2022-03-22T22:02:09.953Z"
   },
   {
    "duration": 917,
    "start_time": "2022-03-22T22:02:10.954Z"
   },
   {
    "duration": 959,
    "start_time": "2022-03-22T22:02:11.874Z"
   },
   {
    "duration": 2229,
    "start_time": "2022-03-22T22:02:12.836Z"
   },
   {
    "duration": 602,
    "start_time": "2022-03-22T22:02:15.067Z"
   },
   {
    "duration": 9,
    "start_time": "2022-03-22T22:02:15.672Z"
   },
   {
    "duration": 20,
    "start_time": "2022-03-22T22:02:15.684Z"
   },
   {
    "duration": 6,
    "start_time": "2022-03-22T22:02:15.706Z"
   },
   {
    "duration": 2487,
    "start_time": "2022-03-22T22:02:15.717Z"
   },
   {
    "duration": 31,
    "start_time": "2022-03-22T22:03:59.676Z"
   },
   {
    "duration": 170,
    "start_time": "2022-03-22T22:05:55.184Z"
   },
   {
    "duration": 4,
    "start_time": "2022-03-22T22:06:27.006Z"
   },
   {
    "duration": 4,
    "start_time": "2022-03-22T22:06:27.943Z"
   },
   {
    "duration": 34,
    "start_time": "2022-03-22T22:06:29.088Z"
   },
   {
    "duration": 18,
    "start_time": "2022-03-22T22:06:41.866Z"
   },
   {
    "duration": 13,
    "start_time": "2022-03-22T22:06:46.691Z"
   },
   {
    "duration": 1402,
    "start_time": "2022-03-22T22:06:56.609Z"
   },
   {
    "duration": 172295,
    "start_time": "2022-03-22T22:07:53.931Z"
   },
   {
    "duration": 1596,
    "start_time": "2022-03-22T22:12:34.897Z"
   },
   {
    "duration": 1221,
    "start_time": "2022-03-22T22:13:55.977Z"
   },
   {
    "duration": 20,
    "start_time": "2022-03-22T22:14:00.273Z"
   },
   {
    "duration": 1654,
    "start_time": "2022-03-22T22:14:02.242Z"
   },
   {
    "duration": 5,
    "start_time": "2022-03-22T22:15:48.918Z"
   },
   {
    "duration": 22,
    "start_time": "2022-03-22T22:15:53.471Z"
   },
   {
    "duration": 9,
    "start_time": "2022-03-22T22:16:26.129Z"
   },
   {
    "duration": 30,
    "start_time": "2022-03-22T22:17:02.126Z"
   },
   {
    "duration": 6,
    "start_time": "2022-03-22T22:29:41.735Z"
   },
   {
    "duration": 24,
    "start_time": "2022-03-22T22:29:46.398Z"
   },
   {
    "duration": 8,
    "start_time": "2022-03-22T22:30:09.769Z"
   },
   {
    "duration": 9,
    "start_time": "2022-03-22T22:55:25.477Z"
   },
   {
    "duration": 1513,
    "start_time": "2022-03-22T23:23:10.973Z"
   },
   {
    "duration": 28,
    "start_time": "2022-03-22T23:23:12.489Z"
   },
   {
    "duration": 118,
    "start_time": "2022-03-22T23:23:12.519Z"
   },
   {
    "duration": 13,
    "start_time": "2022-03-22T23:23:12.641Z"
   },
   {
    "duration": 33,
    "start_time": "2022-03-22T23:23:12.656Z"
   },
   {
    "duration": 20,
    "start_time": "2022-03-22T23:23:12.691Z"
   },
   {
    "duration": 20,
    "start_time": "2022-03-22T23:23:12.714Z"
   },
   {
    "duration": 31,
    "start_time": "2022-03-22T23:23:12.736Z"
   },
   {
    "duration": 52,
    "start_time": "2022-03-22T23:23:12.769Z"
   },
   {
    "duration": 25,
    "start_time": "2022-03-22T23:23:12.826Z"
   },
   {
    "duration": 38,
    "start_time": "2022-03-22T23:23:12.853Z"
   },
   {
    "duration": 372,
    "start_time": "2022-03-22T23:23:12.893Z"
   },
   {
    "duration": 372,
    "start_time": "2022-03-22T23:23:13.267Z"
   },
   {
    "duration": 360,
    "start_time": "2022-03-22T23:23:13.642Z"
   },
   {
    "duration": 358,
    "start_time": "2022-03-22T23:23:14.005Z"
   },
   {
    "duration": 576,
    "start_time": "2022-03-22T23:23:14.366Z"
   },
   {
    "duration": 349,
    "start_time": "2022-03-22T23:23:14.945Z"
   },
   {
    "duration": 899,
    "start_time": "2022-03-22T23:23:15.296Z"
   },
   {
    "duration": 523,
    "start_time": "2022-03-22T23:23:16.198Z"
   },
   {
    "duration": 934,
    "start_time": "2022-03-22T23:23:16.723Z"
   },
   {
    "duration": 900,
    "start_time": "2022-03-22T23:23:17.659Z"
   },
   {
    "duration": 1036,
    "start_time": "2022-03-22T23:23:18.561Z"
   },
   {
    "duration": 2218,
    "start_time": "2022-03-22T23:23:19.599Z"
   },
   {
    "duration": 552,
    "start_time": "2022-03-22T23:23:21.819Z"
   },
   {
    "duration": 18,
    "start_time": "2022-03-22T23:23:22.373Z"
   },
   {
    "duration": 18,
    "start_time": "2022-03-22T23:23:22.393Z"
   },
   {
    "duration": 6,
    "start_time": "2022-03-22T23:23:22.414Z"
   },
   {
    "duration": 2899,
    "start_time": "2022-03-22T23:23:22.424Z"
   },
   {
    "duration": 26,
    "start_time": "2022-03-22T23:23:25.326Z"
   },
   {
    "duration": 43,
    "start_time": "2022-03-22T23:23:25.355Z"
   },
   {
    "duration": 869,
    "start_time": "2022-03-22T23:23:25.401Z"
   },
   {
    "duration": 171339,
    "start_time": "2022-03-22T23:23:26.273Z"
   },
   {
    "duration": 1587,
    "start_time": "2022-03-22T23:26:17.615Z"
   },
   {
    "duration": 103,
    "start_time": "2022-03-22T23:26:19.205Z"
   },
   {
    "duration": 30,
    "start_time": "2022-03-22T23:26:19.310Z"
   }
  ],
  "kernelspec": {
   "display_name": "Python 3 (ipykernel)",
   "language": "python",
   "name": "python3"
  },
  "language_info": {
   "codemirror_mode": {
    "name": "ipython",
    "version": 3
   },
   "file_extension": ".py",
   "mimetype": "text/x-python",
   "name": "python",
   "nbconvert_exporter": "python",
   "pygments_lexer": "ipython3",
   "version": "3.9.5"
  },
  "toc": {
   "base_numbering": 1,
   "nav_menu": {},
   "number_sections": true,
   "sideBar": true,
   "skip_h1_title": true,
   "title_cell": "Table of Contents",
   "title_sidebar": "Contents",
   "toc_cell": false,
   "toc_position": {},
   "toc_section_display": true,
   "toc_window_display": false
  }
 },
 "nbformat": 4,
 "nbformat_minor": 2
}
